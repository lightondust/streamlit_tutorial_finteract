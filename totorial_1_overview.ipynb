{
 "cells": [
  {
   "cell_type": "markdown",
   "metadata": {},
   "source": [
    "streamlitチュートリアル_インタラクティブな企業分析アプリを作ろう、1.概要"
   ]
  },
  {
   "cell_type": "markdown",
   "metadata": {},
   "source": [
    "ソースコード及びデータはこちらから入手できます。\n",
    "\n",
    "https://github.com/lightondust/streamlit_tutorial_finteract"
   ]
  },
  {
   "cell_type": "markdown",
   "metadata": {},
   "source": [
    "# streamlit概要"
   ]
  },
  {
   "cell_type": "markdown",
   "metadata": {},
   "source": [
    "データ分析した結果などを手軽にWebアプリにできるツールです。\n",
    "\n",
    "ドロップダウンメニューやラジオボタン、テキストエリアなどのユーザ入力を手軽に変数へ格納し、それを元にデータを可視化したりできます。\n",
    "\n",
    "表示に関しては\n",
    "\n",
    "- 既存描画コードを流用できる（plotly、bokeh、matplotlib）\n",
    "- 地図上での表示なども簡単にできる\n",
    "- マークダウンで表示を調整できる（画像やリンクなどもOK）\n",
    "\n",
    "ができて、jupyter notebookで行った解析を少ない工数でアプリにできるのが魅力です。\n",
    "\n",
    "分析サイドで解析をすばやくアプリにして、ビジネスサイドがそれと向き合いならが価値を引き出したり、分析へフィードバックしたりするサイクルを高速にローコストで実現できるようになるため、企業とデータの関わり方が劇的に変わる可能性もあると感じています。\n",
    "\n",
    "少し高度な機能としては\n",
    "\n",
    "- マークダウンでは不十分な時はjs含めてのhtmlを挿入できる\n",
    "- オリジナルstreamlit部品を作るができて、それ用のチュートリアルがある\n",
    "- プレースホルダーを使うとユーザの動作に応じてある程度柔軟な動きができる\n",
    "\n",
    "ができるため、ある程度高度な機能も簡単に実現できます。\n",
    "\n",
    "また、基本的にpythonのコードを自由に実行できるので、\n",
    "- databaseと連携して膨大なデータを扱ったり、ユーザアクションを蓄積していくことができる\n",
    "毎度同じ動作をする関数に関しては\n",
    "- cache機能を使って、データ読み込みなど一度だけ実行するようにできる\n",
    "\n",
    "ただ、本格的なウェブアプリ用のライブラリではないため、ヘッダーやクッキーの扱いなどは自由にできません。\n",
    "\n",
    "- 認証は現状頑張ればできる（デフォルトの機能はない）が、細かい制御が難しい（今後しやすくなる見込み）\n",
    "- URLの書き換えは実験的な機能として実装されている\n",
    "- CORS関連（例えばサイト内にTweetなどを埋め込みたい場合）はバージョンによってできたりできなかったり"
   ]
  },
  {
   "cell_type": "markdown",
   "metadata": {},
   "source": [
    "# 具体的に見てみよう"
   ]
  },
  {
   "cell_type": "markdown",
   "metadata": {},
   "source": [
    "## データ表示"
   ]
  },
  {
   "cell_type": "markdown",
   "metadata": {},
   "source": [
    "データを読み込んで画面上に表示してみます。ノートブックでは次のように書きます"
   ]
  },
  {
   "cell_type": "code",
   "execution_count": 43,
   "metadata": {},
   "outputs": [],
   "source": [
    "import os\n",
    "import pandas as pd"
   ]
  },
  {
   "cell_type": "code",
   "execution_count": 44,
   "metadata": {},
   "outputs": [],
   "source": [
    "def read_company_info():\n",
    "    company_info_path = os.path.join('.','data', 'tse_company_info.csv')\n",
    "    df = pd.read_csv(company_info_path, index_col=0)\n",
    "    return df "
   ]
  },
  {
   "cell_type": "code",
   "execution_count": 45,
   "metadata": {},
   "outputs": [],
   "source": [
    "company_info_df = read_company_info()"
   ]
  },
  {
   "cell_type": "code",
   "execution_count": 46,
   "metadata": {},
   "outputs": [
    {
     "data": {
      "text/html": [
       "<div>\n",
       "<style scoped>\n",
       "    .dataframe tbody tr th:only-of-type {\n",
       "        vertical-align: middle;\n",
       "    }\n",
       "\n",
       "    .dataframe tbody tr th {\n",
       "        vertical-align: top;\n",
       "    }\n",
       "\n",
       "    .dataframe thead th {\n",
       "        text-align: right;\n",
       "    }\n",
       "</style>\n",
       "<table border=\"1\" class=\"dataframe\">\n",
       "  <thead>\n",
       "    <tr style=\"text-align: right;\">\n",
       "      <th></th>\n",
       "      <th>code</th>\n",
       "      <th>時価総額</th>\n",
       "      <th>セクター_en</th>\n",
       "      <th>従業員数</th>\n",
       "      <th>PBR</th>\n",
       "      <th>総収入</th>\n",
       "      <th>純利益</th>\n",
       "      <th>年</th>\n",
       "      <th>名前</th>\n",
       "      <th>セクター</th>\n",
       "      <th>address</th>\n",
       "      <th>lon</th>\n",
       "      <th>lat</th>\n",
       "    </tr>\n",
       "  </thead>\n",
       "  <tbody>\n",
       "    <tr>\n",
       "      <th>0</th>\n",
       "      <td>1301</td>\n",
       "      <td>2.993377e+10</td>\n",
       "      <td>Consumer Defensive</td>\n",
       "      <td>2307.0</td>\n",
       "      <td>0.855780</td>\n",
       "      <td>2.625190e+11</td>\n",
       "      <td>2.037000e+09</td>\n",
       "      <td>2020.0</td>\n",
       "      <td>極洋</td>\n",
       "      <td>食品</td>\n",
       "      <td>〒107-0052 東京都港区赤坂３−３−５</td>\n",
       "      <td>35.671513</td>\n",
       "      <td>139.741379</td>\n",
       "    </tr>\n",
       "    <tr>\n",
       "      <th>12</th>\n",
       "      <td>1332</td>\n",
       "      <td>1.272567e+11</td>\n",
       "      <td>Consumer Defensive</td>\n",
       "      <td>9247.0</td>\n",
       "      <td>0.801719</td>\n",
       "      <td>6.900160e+11</td>\n",
       "      <td>1.476800e+10</td>\n",
       "      <td>2020.0</td>\n",
       "      <td>日本水産</td>\n",
       "      <td>食品</td>\n",
       "      <td>〒105-8676 東京都港区西新橋１−３−１</td>\n",
       "      <td>35.665021</td>\n",
       "      <td>139.760798</td>\n",
       "    </tr>\n",
       "    <tr>\n",
       "      <th>13</th>\n",
       "      <td>1333</td>\n",
       "      <td>1.120904e+11</td>\n",
       "      <td>Consumer Defensive</td>\n",
       "      <td>11107.0</td>\n",
       "      <td>0.817978</td>\n",
       "      <td>9.052040e+11</td>\n",
       "      <td>1.253700e+10</td>\n",
       "      <td>2020.0</td>\n",
       "      <td>マルハニチロ</td>\n",
       "      <td>食品</td>\n",
       "      <td>〒135-8608 東京都江東区豊洲３−２−２０ 豊洲フロント</td>\n",
       "      <td>35.653641</td>\n",
       "      <td>139.798843</td>\n",
       "    </tr>\n",
       "    <tr>\n",
       "      <th>19</th>\n",
       "      <td>1352</td>\n",
       "      <td>8.281886e+09</td>\n",
       "      <td>Consumer Defensive</td>\n",
       "      <td>404.0</td>\n",
       "      <td>1.271149</td>\n",
       "      <td>8.049200e+10</td>\n",
       "      <td>4.540000e+08</td>\n",
       "      <td>2020.0</td>\n",
       "      <td>ホウスイ</td>\n",
       "      <td>食品</td>\n",
       "      <td>〒135-0061 東京都江東区豊洲６−６−３</td>\n",
       "      <td>35.638515</td>\n",
       "      <td>139.785476</td>\n",
       "    </tr>\n",
       "    <tr>\n",
       "      <th>30</th>\n",
       "      <td>1375</td>\n",
       "      <td>7.252700e+10</td>\n",
       "      <td>Consumer Defensive</td>\n",
       "      <td>NaN</td>\n",
       "      <td>10.541741</td>\n",
       "      <td>NaN</td>\n",
       "      <td>NaN</td>\n",
       "      <td>NaN</td>\n",
       "      <td>雪国まいたけ</td>\n",
       "      <td>食品</td>\n",
       "      <td>〒949-6695 新潟県南魚沼市余川８９</td>\n",
       "      <td>37.075239</td>\n",
       "      <td>138.878115</td>\n",
       "    </tr>\n",
       "  </tbody>\n",
       "</table>\n",
       "</div>"
      ],
      "text/plain": [
       "    code          時価総額             セクター_en     従業員数        PBR           総収入  \\\n",
       "0   1301  2.993377e+10  Consumer Defensive   2307.0   0.855780  2.625190e+11   \n",
       "12  1332  1.272567e+11  Consumer Defensive   9247.0   0.801719  6.900160e+11   \n",
       "13  1333  1.120904e+11  Consumer Defensive  11107.0   0.817978  9.052040e+11   \n",
       "19  1352  8.281886e+09  Consumer Defensive    404.0   1.271149  8.049200e+10   \n",
       "30  1375  7.252700e+10  Consumer Defensive      NaN  10.541741           NaN   \n",
       "\n",
       "             純利益       年      名前 セクター                          address  \\\n",
       "0   2.037000e+09  2020.0      極洋   食品           〒107-0052 東京都港区赤坂３−３−５   \n",
       "12  1.476800e+10  2020.0    日本水産   食品          〒105-8676 東京都港区西新橋１−３−１   \n",
       "13  1.253700e+10  2020.0  マルハニチロ   食品  〒135-8608 東京都江東区豊洲３−２−２０ 豊洲フロント   \n",
       "19  4.540000e+08  2020.0    ホウスイ   食品          〒135-0061 東京都江東区豊洲６−６−３   \n",
       "30           NaN     NaN  雪国まいたけ   食品            〒949-6695 新潟県南魚沼市余川８９   \n",
       "\n",
       "          lon         lat  \n",
       "0   35.671513  139.741379  \n",
       "12  35.665021  139.760798  \n",
       "13  35.653641  139.798843  \n",
       "19  35.638515  139.785476  \n",
       "30  37.075239  138.878115  "
      ]
     },
     "execution_count": 46,
     "metadata": {},
     "output_type": "execute_result"
    }
   ],
   "source": [
    "comany_info_df.head()"
   ]
  },
  {
   "cell_type": "markdown",
   "metadata": {},
   "source": [
    "このデータの中には東証に上場している企業３６００社の時価総額、総収入、純利益、従業員数、PBR、セクター、住所、座標などが入っています。"
   ]
  },
  {
   "cell_type": "markdown",
   "metadata": {},
   "source": [
    "streamlitで上記のノートブック用のコードを少し変更するだけで画面上にデータをレンダリングすることができます"
   ]
  },
  {
   "cell_type": "markdown",
   "metadata": {},
   "source": [
    "```\n",
    "import os\n",
    "import pandas as pd\n",
    "import streamlit as st\n",
    "\n",
    "def read_company_info():\n",
    "    company_info_path = os.path.join('.','data', 'tse_company_info.csv')\n",
    "    df = pd.read_csv(company_info_path, index_col=0)\n",
    "    return df \n",
    "\n",
    "company_info_df = read_company_info()\n",
    "\n",
    "\"\"\"\n",
    "# データ表示\n",
    "\"\"\"\n",
    "\n",
    "company_info_df\n",
    "```"
   ]
  },
  {
   "cell_type": "markdown",
   "metadata": {},
   "source": [
    "```\n",
    "import os\n",
    "import pandas as pd\n",
    "import streamlit as st\n",
    "\n",
    "def read_company_info():\n",
    "    company_info_path = os.path.join('.','data', 'tse_company_info.csv')\n",
    "    df = pd.read_csv(company_info_path, index_col=0)\n",
    "    return df \n",
    "\n",
    "company_info_df = read_company_info()\n",
    "\n",
    "company_info_df\n",
    "```"
   ]
  },
  {
   "cell_type": "markdown",
   "metadata": {},
   "source": [
    "ここで\n",
    "```\n",
    "company_info_df\n",
    "```\n",
    "と書くだけでデータフレームが画面にレンダリングされます。\n",
    "便利な機能ですが、明示していない分わかりにくいと感じるかもしれません。\n",
    "これはstreamlitのマジックコマンドと呼ばれる機能で、中では\n",
    "```\n",
    "st.dataframe(company_info_df)\n",
    "```\n",
    "を呼び出しています。\n",
    "\n",
    "同様に\n",
    "```\n",
    "\"\"\"\n",
    "# データ表示\n",
    "\"\"\"\n",
    "```\n",
    "は\n",
    "```\n",
    "st.markdown('''\n",
    "# データ表示\n",
    "''')\n",
    "```\n",
    "を実行しています。\n",
    "\n",
    "次のように明示的に書いても同じ動作をします。"
   ]
  },
  {
   "cell_type": "markdown",
   "metadata": {},
   "source": [
    "```\n",
    "import os\n",
    "import pandas as pd\n",
    "import streamlit as st\n",
    "\n",
    "def read_company_info():\n",
    "    company_info_path = os.path.join('.','data', 'tse_company_info.csv')\n",
    "    df = pd.read_csv(company_info_path, index_col=0)\n",
    "    return df \n",
    "\n",
    "company_info_df = read_company_info()\n",
    "\n",
    "st.markdown('''\n",
    "# データ表示\n",
    "''')\n",
    "st.dataframe(company_info_df)\n",
    "```"
   ]
  },
  {
   "cell_type": "markdown",
   "metadata": {},
   "source": [
    "## 時価総額"
   ]
  },
  {
   "cell_type": "markdown",
   "metadata": {},
   "source": [
    "次にグラフを描画して画面上に表示してます。"
   ]
  },
  {
   "cell_type": "code",
   "execution_count": 48,
   "metadata": {},
   "outputs": [],
   "source": [
    "import plotly.express as px"
   ]
  },
  {
   "cell_type": "code",
   "execution_count": 49,
   "metadata": {},
   "outputs": [
    {
     "data": {
      "application/vnd.plotly.v1+json": {
       "config": {
        "plotlyServerURL": "https://plot.ly"
       },
       "data": [
        {
         "alignmentgroup": "True",
         "hoverlabel": {
          "namelength": 0
         },
         "hovertemplate": "名前=%{x}<br>時価総額=%{y}",
         "legendgroup": "",
         "marker": {
          "color": "#636efa"
         },
         "name": "",
         "offsetgroup": "",
         "orientation": "v",
         "showlegend": false,
         "textposition": "auto",
         "type": "bar",
         "x": [
          "トヨタ自動車",
          "ソフトバンクグループ",
          "キーエンス",
          "ＮＴＴドコモ",
          "ソニー",
          "日本電信電話",
          "ファーストリテイリング",
          "中外製薬",
          "日本電産",
          "信越化学工業",
          "第一三共",
          "ダイキン工業",
          "リクルートホールディングス",
          "ＫＤＤＩ",
          "任天堂",
          "エムスリー",
          "ソフトバンク",
          "武田薬品工業",
          "オリエンタルランド",
          "三菱ＵＦＪフィナンシャル・グループ",
          "村田製作所",
          "東京エレクトロン",
          "ＨＯＹＡ",
          "本田技研工業",
          "ファナック",
          "ＳＭＣ",
          "三井住友フィナンシャルグループ",
          "伊藤忠商事",
          "日本ペイントホールディングス",
          "デンソー",
          "日立製作所",
          "花王",
          "日本たばこ産業",
          "東京海上ホールディングス",
          "三菱商事",
          "みずほフィナンシャルグループ",
          "三菱電機",
          "日本郵政",
          "ゆうちょ銀行",
          "Ｚホールディングス",
          "テルモ",
          "三井物産",
          "ユニ・チャーム",
          "セブン＆アイ・ホールディングス",
          "資生堂",
          "オリンパス",
          "富士通",
          "ネクソン",
          "アステラス製薬",
          "スズキ",
          "東海旅客鉄道",
          "パナソニック",
          "イオン",
          "クボタ",
          "ニトリホールディングス",
          "東日本旅客鉄道",
          "小松製作所",
          "三菱地所",
          "ブリヂストン",
          "豊田自動織機",
          "大塚ホールディングス",
          "シマノ",
          "シスメックス",
          "富士フイルムホールディングス",
          "エーザイ",
          "セコム",
          "京セラ",
          "三井不動産",
          "大和ハウス工業",
          "バンダイナムコホールディングス",
          "野村総合研究所",
          "オービック",
          "アサヒグループホールディングス",
          "日産自動車",
          "オリックス",
          "エヌ・ティ・ティ・データ",
          "ＳＧホールディングス",
          "キヤノン",
          "オムロン",
          "キリンホールディングス",
          "第一生命ホールディングス",
          "ＴＤＫ",
          "塩野義製薬",
          "ＭＳ＆ＡＤインシュアランスグループホールディングス",
          "住友不動産",
          "野村ホールディングス",
          "ルネサスエレクトロニクス",
          "小野薬品工業",
          "住友商事",
          "ＳＵＢＡＲＵ",
          "パン・パシフィック・インターナショナルホールディングス",
          "ＭｏｎｏｔａＲＯ",
          "ダイフク",
          "協和キリン",
          "日本電気",
          "楽天",
          "マキタ",
          "日本オラクル",
          "ＳＯＭＰＯホールディングス",
          "アドバンテスト"
         ],
         "xaxis": "x",
         "y": [
          19622046728192,
          13574277693440,
          12817551851520,
          12510940889088,
          12089280167936,
          9167249080320,
          8939963940864,
          8227633233920,
          7768967217152,
          7314469814272,
          7140095295488,
          7115667144704,
          7043570728960,
          6897879482368,
          6834143887360,
          6475735367680,
          5942097215488,
          5832896413696,
          5827310649344,
          5777545756672,
          5760912719872,
          5710914519040,
          5200391700480,
          5006306050048,
          4961073627136,
          4429467090944,
          4189404266496,
          4160936738816,
          4076948684800,
          3921617092608,
          3835434369024,
          3799725113344,
          3784402272256,
          3651255926784,
          3635357417472,
          3391070666752,
          3294888984576,
          3120237903872,
          3115211292672,
          3101690429440,
          3098657947648,
          3028004896768,
          3016800337920,
          2954885595136,
          2954628169728,
          2894505967616,
          2848869318656,
          2812935929856,
          2789051203584,
          2714149847040,
          2673373347840,
          2655181340672,
          2602731307008,
          2563344695296,
          2505787047936,
          2496958038016,
          2466060959744,
          2453745434624,
          2426034454528,
          2353468801024,
          2327969267712,
          2322160156672,
          2295811014656,
          2266273415168,
          2240180125696,
          2226272337920,
          2224970006528,
          2155692556288,
          2117214928896,
          2116578312192,
          2097627791360,
          2072544280576,
          2026759651328,
          1971602587648,
          1965158957056,
          1963499978752,
          1962848288768,
          1956131373056,
          1932027232256,
          1924049534976,
          1880128094208,
          1863205257216,
          1745731584000,
          1716696121344,
          1681065115648,
          1673839771648,
          1658368950272,
          1643099717632,
          1628788359168,
          1595741962240,
          1580674187264,
          1574906757120,
          1563974828032,
          1551239872512,
          1542282018816,
          1532562505728,
          1515064786944,
          1491060785152,
          1468207333376,
          1451273224192
         ],
         "yaxis": "y"
        }
       ],
       "layout": {
        "autosize": true,
        "barmode": "relative",
        "legend": {
         "tracegroupgap": 0
        },
        "margin": {
         "t": 60
        },
        "template": {
         "data": {
          "bar": [
           {
            "error_x": {
             "color": "#2a3f5f"
            },
            "error_y": {
             "color": "#2a3f5f"
            },
            "marker": {
             "line": {
              "color": "#E5ECF6",
              "width": 0.5
             }
            },
            "type": "bar"
           }
          ],
          "barpolar": [
           {
            "marker": {
             "line": {
              "color": "#E5ECF6",
              "width": 0.5
             }
            },
            "type": "barpolar"
           }
          ],
          "carpet": [
           {
            "aaxis": {
             "endlinecolor": "#2a3f5f",
             "gridcolor": "white",
             "linecolor": "white",
             "minorgridcolor": "white",
             "startlinecolor": "#2a3f5f"
            },
            "baxis": {
             "endlinecolor": "#2a3f5f",
             "gridcolor": "white",
             "linecolor": "white",
             "minorgridcolor": "white",
             "startlinecolor": "#2a3f5f"
            },
            "type": "carpet"
           }
          ],
          "choropleth": [
           {
            "colorbar": {
             "outlinewidth": 0,
             "ticks": ""
            },
            "type": "choropleth"
           }
          ],
          "contour": [
           {
            "colorbar": {
             "outlinewidth": 0,
             "ticks": ""
            },
            "colorscale": [
             [
              0,
              "#0d0887"
             ],
             [
              0.1111111111111111,
              "#46039f"
             ],
             [
              0.2222222222222222,
              "#7201a8"
             ],
             [
              0.3333333333333333,
              "#9c179e"
             ],
             [
              0.4444444444444444,
              "#bd3786"
             ],
             [
              0.5555555555555556,
              "#d8576b"
             ],
             [
              0.6666666666666666,
              "#ed7953"
             ],
             [
              0.7777777777777778,
              "#fb9f3a"
             ],
             [
              0.8888888888888888,
              "#fdca26"
             ],
             [
              1,
              "#f0f921"
             ]
            ],
            "type": "contour"
           }
          ],
          "contourcarpet": [
           {
            "colorbar": {
             "outlinewidth": 0,
             "ticks": ""
            },
            "type": "contourcarpet"
           }
          ],
          "heatmap": [
           {
            "colorbar": {
             "outlinewidth": 0,
             "ticks": ""
            },
            "colorscale": [
             [
              0,
              "#0d0887"
             ],
             [
              0.1111111111111111,
              "#46039f"
             ],
             [
              0.2222222222222222,
              "#7201a8"
             ],
             [
              0.3333333333333333,
              "#9c179e"
             ],
             [
              0.4444444444444444,
              "#bd3786"
             ],
             [
              0.5555555555555556,
              "#d8576b"
             ],
             [
              0.6666666666666666,
              "#ed7953"
             ],
             [
              0.7777777777777778,
              "#fb9f3a"
             ],
             [
              0.8888888888888888,
              "#fdca26"
             ],
             [
              1,
              "#f0f921"
             ]
            ],
            "type": "heatmap"
           }
          ],
          "heatmapgl": [
           {
            "colorbar": {
             "outlinewidth": 0,
             "ticks": ""
            },
            "colorscale": [
             [
              0,
              "#0d0887"
             ],
             [
              0.1111111111111111,
              "#46039f"
             ],
             [
              0.2222222222222222,
              "#7201a8"
             ],
             [
              0.3333333333333333,
              "#9c179e"
             ],
             [
              0.4444444444444444,
              "#bd3786"
             ],
             [
              0.5555555555555556,
              "#d8576b"
             ],
             [
              0.6666666666666666,
              "#ed7953"
             ],
             [
              0.7777777777777778,
              "#fb9f3a"
             ],
             [
              0.8888888888888888,
              "#fdca26"
             ],
             [
              1,
              "#f0f921"
             ]
            ],
            "type": "heatmapgl"
           }
          ],
          "histogram": [
           {
            "marker": {
             "colorbar": {
              "outlinewidth": 0,
              "ticks": ""
             }
            },
            "type": "histogram"
           }
          ],
          "histogram2d": [
           {
            "colorbar": {
             "outlinewidth": 0,
             "ticks": ""
            },
            "colorscale": [
             [
              0,
              "#0d0887"
             ],
             [
              0.1111111111111111,
              "#46039f"
             ],
             [
              0.2222222222222222,
              "#7201a8"
             ],
             [
              0.3333333333333333,
              "#9c179e"
             ],
             [
              0.4444444444444444,
              "#bd3786"
             ],
             [
              0.5555555555555556,
              "#d8576b"
             ],
             [
              0.6666666666666666,
              "#ed7953"
             ],
             [
              0.7777777777777778,
              "#fb9f3a"
             ],
             [
              0.8888888888888888,
              "#fdca26"
             ],
             [
              1,
              "#f0f921"
             ]
            ],
            "type": "histogram2d"
           }
          ],
          "histogram2dcontour": [
           {
            "colorbar": {
             "outlinewidth": 0,
             "ticks": ""
            },
            "colorscale": [
             [
              0,
              "#0d0887"
             ],
             [
              0.1111111111111111,
              "#46039f"
             ],
             [
              0.2222222222222222,
              "#7201a8"
             ],
             [
              0.3333333333333333,
              "#9c179e"
             ],
             [
              0.4444444444444444,
              "#bd3786"
             ],
             [
              0.5555555555555556,
              "#d8576b"
             ],
             [
              0.6666666666666666,
              "#ed7953"
             ],
             [
              0.7777777777777778,
              "#fb9f3a"
             ],
             [
              0.8888888888888888,
              "#fdca26"
             ],
             [
              1,
              "#f0f921"
             ]
            ],
            "type": "histogram2dcontour"
           }
          ],
          "mesh3d": [
           {
            "colorbar": {
             "outlinewidth": 0,
             "ticks": ""
            },
            "type": "mesh3d"
           }
          ],
          "parcoords": [
           {
            "line": {
             "colorbar": {
              "outlinewidth": 0,
              "ticks": ""
             }
            },
            "type": "parcoords"
           }
          ],
          "pie": [
           {
            "automargin": true,
            "type": "pie"
           }
          ],
          "scatter": [
           {
            "marker": {
             "colorbar": {
              "outlinewidth": 0,
              "ticks": ""
             }
            },
            "type": "scatter"
           }
          ],
          "scatter3d": [
           {
            "line": {
             "colorbar": {
              "outlinewidth": 0,
              "ticks": ""
             }
            },
            "marker": {
             "colorbar": {
              "outlinewidth": 0,
              "ticks": ""
             }
            },
            "type": "scatter3d"
           }
          ],
          "scattercarpet": [
           {
            "marker": {
             "colorbar": {
              "outlinewidth": 0,
              "ticks": ""
             }
            },
            "type": "scattercarpet"
           }
          ],
          "scattergeo": [
           {
            "marker": {
             "colorbar": {
              "outlinewidth": 0,
              "ticks": ""
             }
            },
            "type": "scattergeo"
           }
          ],
          "scattergl": [
           {
            "marker": {
             "colorbar": {
              "outlinewidth": 0,
              "ticks": ""
             }
            },
            "type": "scattergl"
           }
          ],
          "scattermapbox": [
           {
            "marker": {
             "colorbar": {
              "outlinewidth": 0,
              "ticks": ""
             }
            },
            "type": "scattermapbox"
           }
          ],
          "scatterpolar": [
           {
            "marker": {
             "colorbar": {
              "outlinewidth": 0,
              "ticks": ""
             }
            },
            "type": "scatterpolar"
           }
          ],
          "scatterpolargl": [
           {
            "marker": {
             "colorbar": {
              "outlinewidth": 0,
              "ticks": ""
             }
            },
            "type": "scatterpolargl"
           }
          ],
          "scatterternary": [
           {
            "marker": {
             "colorbar": {
              "outlinewidth": 0,
              "ticks": ""
             }
            },
            "type": "scatterternary"
           }
          ],
          "surface": [
           {
            "colorbar": {
             "outlinewidth": 0,
             "ticks": ""
            },
            "colorscale": [
             [
              0,
              "#0d0887"
             ],
             [
              0.1111111111111111,
              "#46039f"
             ],
             [
              0.2222222222222222,
              "#7201a8"
             ],
             [
              0.3333333333333333,
              "#9c179e"
             ],
             [
              0.4444444444444444,
              "#bd3786"
             ],
             [
              0.5555555555555556,
              "#d8576b"
             ],
             [
              0.6666666666666666,
              "#ed7953"
             ],
             [
              0.7777777777777778,
              "#fb9f3a"
             ],
             [
              0.8888888888888888,
              "#fdca26"
             ],
             [
              1,
              "#f0f921"
             ]
            ],
            "type": "surface"
           }
          ],
          "table": [
           {
            "cells": {
             "fill": {
              "color": "#EBF0F8"
             },
             "line": {
              "color": "white"
             }
            },
            "header": {
             "fill": {
              "color": "#C8D4E3"
             },
             "line": {
              "color": "white"
             }
            },
            "type": "table"
           }
          ]
         },
         "layout": {
          "annotationdefaults": {
           "arrowcolor": "#2a3f5f",
           "arrowhead": 0,
           "arrowwidth": 1
          },
          "coloraxis": {
           "colorbar": {
            "outlinewidth": 0,
            "ticks": ""
           }
          },
          "colorscale": {
           "diverging": [
            [
             0,
             "#8e0152"
            ],
            [
             0.1,
             "#c51b7d"
            ],
            [
             0.2,
             "#de77ae"
            ],
            [
             0.3,
             "#f1b6da"
            ],
            [
             0.4,
             "#fde0ef"
            ],
            [
             0.5,
             "#f7f7f7"
            ],
            [
             0.6,
             "#e6f5d0"
            ],
            [
             0.7,
             "#b8e186"
            ],
            [
             0.8,
             "#7fbc41"
            ],
            [
             0.9,
             "#4d9221"
            ],
            [
             1,
             "#276419"
            ]
           ],
           "sequential": [
            [
             0,
             "#0d0887"
            ],
            [
             0.1111111111111111,
             "#46039f"
            ],
            [
             0.2222222222222222,
             "#7201a8"
            ],
            [
             0.3333333333333333,
             "#9c179e"
            ],
            [
             0.4444444444444444,
             "#bd3786"
            ],
            [
             0.5555555555555556,
             "#d8576b"
            ],
            [
             0.6666666666666666,
             "#ed7953"
            ],
            [
             0.7777777777777778,
             "#fb9f3a"
            ],
            [
             0.8888888888888888,
             "#fdca26"
            ],
            [
             1,
             "#f0f921"
            ]
           ],
           "sequentialminus": [
            [
             0,
             "#0d0887"
            ],
            [
             0.1111111111111111,
             "#46039f"
            ],
            [
             0.2222222222222222,
             "#7201a8"
            ],
            [
             0.3333333333333333,
             "#9c179e"
            ],
            [
             0.4444444444444444,
             "#bd3786"
            ],
            [
             0.5555555555555556,
             "#d8576b"
            ],
            [
             0.6666666666666666,
             "#ed7953"
            ],
            [
             0.7777777777777778,
             "#fb9f3a"
            ],
            [
             0.8888888888888888,
             "#fdca26"
            ],
            [
             1,
             "#f0f921"
            ]
           ]
          },
          "colorway": [
           "#636efa",
           "#EF553B",
           "#00cc96",
           "#ab63fa",
           "#FFA15A",
           "#19d3f3",
           "#FF6692",
           "#B6E880",
           "#FF97FF",
           "#FECB52"
          ],
          "font": {
           "color": "#2a3f5f"
          },
          "geo": {
           "bgcolor": "white",
           "lakecolor": "white",
           "landcolor": "#E5ECF6",
           "showlakes": true,
           "showland": true,
           "subunitcolor": "white"
          },
          "hoverlabel": {
           "align": "left"
          },
          "hovermode": "closest",
          "mapbox": {
           "style": "light"
          },
          "paper_bgcolor": "white",
          "plot_bgcolor": "#E5ECF6",
          "polar": {
           "angularaxis": {
            "gridcolor": "white",
            "linecolor": "white",
            "ticks": ""
           },
           "bgcolor": "#E5ECF6",
           "radialaxis": {
            "gridcolor": "white",
            "linecolor": "white",
            "ticks": ""
           }
          },
          "scene": {
           "xaxis": {
            "backgroundcolor": "#E5ECF6",
            "gridcolor": "white",
            "gridwidth": 2,
            "linecolor": "white",
            "showbackground": true,
            "ticks": "",
            "zerolinecolor": "white"
           },
           "yaxis": {
            "backgroundcolor": "#E5ECF6",
            "gridcolor": "white",
            "gridwidth": 2,
            "linecolor": "white",
            "showbackground": true,
            "ticks": "",
            "zerolinecolor": "white"
           },
           "zaxis": {
            "backgroundcolor": "#E5ECF6",
            "gridcolor": "white",
            "gridwidth": 2,
            "linecolor": "white",
            "showbackground": true,
            "ticks": "",
            "zerolinecolor": "white"
           }
          },
          "shapedefaults": {
           "line": {
            "color": "#2a3f5f"
           }
          },
          "ternary": {
           "aaxis": {
            "gridcolor": "white",
            "linecolor": "white",
            "ticks": ""
           },
           "baxis": {
            "gridcolor": "white",
            "linecolor": "white",
            "ticks": ""
           },
           "bgcolor": "#E5ECF6",
           "caxis": {
            "gridcolor": "white",
            "linecolor": "white",
            "ticks": ""
           }
          },
          "title": {
           "x": 0.05
          },
          "xaxis": {
           "automargin": true,
           "gridcolor": "white",
           "linecolor": "white",
           "ticks": "",
           "title": {
            "standoff": 15
           },
           "zerolinecolor": "white",
           "zerolinewidth": 2
          },
          "yaxis": {
           "automargin": true,
           "gridcolor": "white",
           "linecolor": "white",
           "ticks": "",
           "title": {
            "standoff": 15
           },
           "zerolinecolor": "white",
           "zerolinewidth": 2
          }
         }
        },
        "xaxis": {
         "anchor": "y",
         "autorange": true,
         "domain": [
          0,
          1
         ],
         "range": [
          -0.5,
          99.5
         ],
         "title": {
          "text": "名前"
         },
         "type": "category"
        },
        "yaxis": {
         "anchor": "x",
         "autorange": true,
         "domain": [
          0,
          1
         ],
         "range": [
          0,
          20654786029675.79
         ],
         "title": {
          "text": "時価総額"
         },
         "type": "linear"
        }
       }
      },
      "image/png": "[encoded data removed]",
      "text/html": [
       "<div>\n",
       "        \n",
       "        \n",
       "            <div id=\"b5c0275e-a2aa-4d90-a451-acf6ee2dc525\" class=\"plotly-graph-div\" style=\"height:600px; width:100%;\"></div>\n",
       "            <script type=\"text/javascript\">\n",
       "                require([\"plotly\"], function(Plotly) {\n",
       "                    window.PLOTLYENV=window.PLOTLYENV || {};\n",
       "                    \n",
       "                if (document.getElementById(\"b5c0275e-a2aa-4d90-a451-acf6ee2dc525\")) {\n",
       "                    Plotly.newPlot(\n",
       "                        'b5c0275e-a2aa-4d90-a451-acf6ee2dc525',\n",
       "                        [{\"alignmentgroup\": \"True\", \"hoverlabel\": {\"namelength\": 0}, \"hovertemplate\": \"\\u540d\\u524d=%{x}<br>\\u6642\\u4fa1\\u7dcf\\u984d=%{y}\", \"legendgroup\": \"\", \"marker\": {\"color\": \"#636efa\"}, \"name\": \"\", \"offsetgroup\": \"\", \"orientation\": \"v\", \"showlegend\": false, \"textposition\": \"auto\", \"type\": \"bar\", \"x\": [\"\\u30c8\\u30e8\\u30bf\\u81ea\\u52d5\\u8eca\", \"\\u30bd\\u30d5\\u30c8\\u30d0\\u30f3\\u30af\\u30b0\\u30eb\\u30fc\\u30d7\", \"\\u30ad\\u30fc\\u30a8\\u30f3\\u30b9\", \"\\uff2e\\uff34\\uff34\\u30c9\\u30b3\\u30e2\", \"\\u30bd\\u30cb\\u30fc\", \"\\u65e5\\u672c\\u96fb\\u4fe1\\u96fb\\u8a71\", \"\\u30d5\\u30a1\\u30fc\\u30b9\\u30c8\\u30ea\\u30c6\\u30a4\\u30ea\\u30f3\\u30b0\", \"\\u4e2d\\u5916\\u88fd\\u85ac\", \"\\u65e5\\u672c\\u96fb\\u7523\", \"\\u4fe1\\u8d8a\\u5316\\u5b66\\u5de5\\u696d\", \"\\u7b2c\\u4e00\\u4e09\\u5171\", \"\\u30c0\\u30a4\\u30ad\\u30f3\\u5de5\\u696d\", \"\\u30ea\\u30af\\u30eb\\u30fc\\u30c8\\u30db\\u30fc\\u30eb\\u30c7\\u30a3\\u30f3\\u30b0\\u30b9\", \"\\uff2b\\uff24\\uff24\\uff29\", \"\\u4efb\\u5929\\u5802\", \"\\u30a8\\u30e0\\u30b9\\u30ea\\u30fc\", \"\\u30bd\\u30d5\\u30c8\\u30d0\\u30f3\\u30af\", \"\\u6b66\\u7530\\u85ac\\u54c1\\u5de5\\u696d\", \"\\u30aa\\u30ea\\u30a8\\u30f3\\u30bf\\u30eb\\u30e9\\u30f3\\u30c9\", \"\\u4e09\\u83f1\\uff35\\uff26\\uff2a\\u30d5\\u30a3\\u30ca\\u30f3\\u30b7\\u30e3\\u30eb\\u30fb\\u30b0\\u30eb\\u30fc\\u30d7\", \"\\u6751\\u7530\\u88fd\\u4f5c\\u6240\", \"\\u6771\\u4eac\\u30a8\\u30ec\\u30af\\u30c8\\u30ed\\u30f3\", \"\\uff28\\uff2f\\uff39\\uff21\", \"\\u672c\\u7530\\u6280\\u7814\\u5de5\\u696d\", \"\\u30d5\\u30a1\\u30ca\\u30c3\\u30af\", \"\\uff33\\uff2d\\uff23\", \"\\u4e09\\u4e95\\u4f4f\\u53cb\\u30d5\\u30a3\\u30ca\\u30f3\\u30b7\\u30e3\\u30eb\\u30b0\\u30eb\\u30fc\\u30d7\", \"\\u4f0a\\u85e4\\u5fe0\\u5546\\u4e8b\", \"\\u65e5\\u672c\\u30da\\u30a4\\u30f3\\u30c8\\u30db\\u30fc\\u30eb\\u30c7\\u30a3\\u30f3\\u30b0\\u30b9\", \"\\u30c7\\u30f3\\u30bd\\u30fc\", \"\\u65e5\\u7acb\\u88fd\\u4f5c\\u6240\", \"\\u82b1\\u738b\", \"\\u65e5\\u672c\\u305f\\u3070\\u3053\\u7523\\u696d\", \"\\u6771\\u4eac\\u6d77\\u4e0a\\u30db\\u30fc\\u30eb\\u30c7\\u30a3\\u30f3\\u30b0\\u30b9\", \"\\u4e09\\u83f1\\u5546\\u4e8b\", \"\\u307f\\u305a\\u307b\\u30d5\\u30a3\\u30ca\\u30f3\\u30b7\\u30e3\\u30eb\\u30b0\\u30eb\\u30fc\\u30d7\", \"\\u4e09\\u83f1\\u96fb\\u6a5f\", \"\\u65e5\\u672c\\u90f5\\u653f\", \"\\u3086\\u3046\\u3061\\u3087\\u9280\\u884c\", \"\\uff3a\\u30db\\u30fc\\u30eb\\u30c7\\u30a3\\u30f3\\u30b0\\u30b9\", \"\\u30c6\\u30eb\\u30e2\", \"\\u4e09\\u4e95\\u7269\\u7523\", \"\\u30e6\\u30cb\\u30fb\\u30c1\\u30e3\\u30fc\\u30e0\", \"\\u30bb\\u30d6\\u30f3\\uff06\\u30a2\\u30a4\\u30fb\\u30db\\u30fc\\u30eb\\u30c7\\u30a3\\u30f3\\u30b0\\u30b9\", \"\\u8cc7\\u751f\\u5802\", \"\\u30aa\\u30ea\\u30f3\\u30d1\\u30b9\", \"\\u5bcc\\u58eb\\u901a\", \"\\u30cd\\u30af\\u30bd\\u30f3\", \"\\u30a2\\u30b9\\u30c6\\u30e9\\u30b9\\u88fd\\u85ac\", \"\\u30b9\\u30ba\\u30ad\", \"\\u6771\\u6d77\\u65c5\\u5ba2\\u9244\\u9053\", \"\\u30d1\\u30ca\\u30bd\\u30cb\\u30c3\\u30af\", \"\\u30a4\\u30aa\\u30f3\", \"\\u30af\\u30dc\\u30bf\", \"\\u30cb\\u30c8\\u30ea\\u30db\\u30fc\\u30eb\\u30c7\\u30a3\\u30f3\\u30b0\\u30b9\", \"\\u6771\\u65e5\\u672c\\u65c5\\u5ba2\\u9244\\u9053\", \"\\u5c0f\\u677e\\u88fd\\u4f5c\\u6240\", \"\\u4e09\\u83f1\\u5730\\u6240\", \"\\u30d6\\u30ea\\u30c2\\u30b9\\u30c8\\u30f3\", \"\\u8c4a\\u7530\\u81ea\\u52d5\\u7e54\\u6a5f\", \"\\u5927\\u585a\\u30db\\u30fc\\u30eb\\u30c7\\u30a3\\u30f3\\u30b0\\u30b9\", \"\\u30b7\\u30de\\u30ce\", \"\\u30b7\\u30b9\\u30e1\\u30c3\\u30af\\u30b9\", \"\\u5bcc\\u58eb\\u30d5\\u30a4\\u30eb\\u30e0\\u30db\\u30fc\\u30eb\\u30c7\\u30a3\\u30f3\\u30b0\\u30b9\", \"\\u30a8\\u30fc\\u30b6\\u30a4\", \"\\u30bb\\u30b3\\u30e0\", \"\\u4eac\\u30bb\\u30e9\", \"\\u4e09\\u4e95\\u4e0d\\u52d5\\u7523\", \"\\u5927\\u548c\\u30cf\\u30a6\\u30b9\\u5de5\\u696d\", \"\\u30d0\\u30f3\\u30c0\\u30a4\\u30ca\\u30e0\\u30b3\\u30db\\u30fc\\u30eb\\u30c7\\u30a3\\u30f3\\u30b0\\u30b9\", \"\\u91ce\\u6751\\u7dcf\\u5408\\u7814\\u7a76\\u6240\", \"\\u30aa\\u30fc\\u30d3\\u30c3\\u30af\", \"\\u30a2\\u30b5\\u30d2\\u30b0\\u30eb\\u30fc\\u30d7\\u30db\\u30fc\\u30eb\\u30c7\\u30a3\\u30f3\\u30b0\\u30b9\", \"\\u65e5\\u7523\\u81ea\\u52d5\\u8eca\", \"\\u30aa\\u30ea\\u30c3\\u30af\\u30b9\", \"\\u30a8\\u30cc\\u30fb\\u30c6\\u30a3\\u30fb\\u30c6\\u30a3\\u30fb\\u30c7\\u30fc\\u30bf\", \"\\uff33\\uff27\\u30db\\u30fc\\u30eb\\u30c7\\u30a3\\u30f3\\u30b0\\u30b9\", \"\\u30ad\\u30e4\\u30ce\\u30f3\", \"\\u30aa\\u30e0\\u30ed\\u30f3\", \"\\u30ad\\u30ea\\u30f3\\u30db\\u30fc\\u30eb\\u30c7\\u30a3\\u30f3\\u30b0\\u30b9\", \"\\u7b2c\\u4e00\\u751f\\u547d\\u30db\\u30fc\\u30eb\\u30c7\\u30a3\\u30f3\\u30b0\\u30b9\", \"\\uff34\\uff24\\uff2b\", \"\\u5869\\u91ce\\u7fa9\\u88fd\\u85ac\", \"\\uff2d\\uff33\\uff06\\uff21\\uff24\\u30a4\\u30f3\\u30b7\\u30e5\\u30a2\\u30e9\\u30f3\\u30b9\\u30b0\\u30eb\\u30fc\\u30d7\\u30db\\u30fc\\u30eb\\u30c7\\u30a3\\u30f3\\u30b0\\u30b9\", \"\\u4f4f\\u53cb\\u4e0d\\u52d5\\u7523\", \"\\u91ce\\u6751\\u30db\\u30fc\\u30eb\\u30c7\\u30a3\\u30f3\\u30b0\\u30b9\", \"\\u30eb\\u30cd\\u30b5\\u30b9\\u30a8\\u30ec\\u30af\\u30c8\\u30ed\\u30cb\\u30af\\u30b9\", \"\\u5c0f\\u91ce\\u85ac\\u54c1\\u5de5\\u696d\", \"\\u4f4f\\u53cb\\u5546\\u4e8b\", \"\\uff33\\uff35\\uff22\\uff21\\uff32\\uff35\", \"\\u30d1\\u30f3\\u30fb\\u30d1\\u30b7\\u30d5\\u30a3\\u30c3\\u30af\\u30fb\\u30a4\\u30f3\\u30bf\\u30fc\\u30ca\\u30b7\\u30e7\\u30ca\\u30eb\\u30db\\u30fc\\u30eb\\u30c7\\u30a3\\u30f3\\u30b0\\u30b9\", \"\\uff2d\\uff4f\\uff4e\\uff4f\\uff54\\uff41\\uff32\\uff2f\", \"\\u30c0\\u30a4\\u30d5\\u30af\", \"\\u5354\\u548c\\u30ad\\u30ea\\u30f3\", \"\\u65e5\\u672c\\u96fb\\u6c17\", \"\\u697d\\u5929\", \"\\u30de\\u30ad\\u30bf\", \"\\u65e5\\u672c\\u30aa\\u30e9\\u30af\\u30eb\", \"\\uff33\\uff2f\\uff2d\\uff30\\uff2f\\u30db\\u30fc\\u30eb\\u30c7\\u30a3\\u30f3\\u30b0\\u30b9\", \"\\u30a2\\u30c9\\u30d0\\u30f3\\u30c6\\u30b9\\u30c8\"], \"xaxis\": \"x\", \"y\": [19622046728192.0, 13574277693440.0, 12817551851520.0, 12510940889088.0, 12089280167936.0, 9167249080320.0, 8939963940864.0, 8227633233920.0, 7768967217152.0, 7314469814272.0, 7140095295488.0, 7115667144704.0, 7043570728960.0, 6897879482368.0, 6834143887360.0, 6475735367680.0, 5942097215488.0, 5832896413696.0, 5827310649344.0, 5777545756672.0, 5760912719872.0, 5710914519040.0, 5200391700480.0, 5006306050048.0, 4961073627136.0, 4429467090944.0, 4189404266496.0, 4160936738816.0, 4076948684800.0, 3921617092608.0, 3835434369024.0, 3799725113344.0, 3784402272256.0, 3651255926784.0, 3635357417472.0, 3391070666752.0, 3294888984576.0, 3120237903872.0, 3115211292672.0, 3101690429440.0, 3098657947648.0, 3028004896768.0, 3016800337920.0, 2954885595136.0, 2954628169728.0, 2894505967616.0, 2848869318656.0, 2812935929856.0, 2789051203584.0, 2714149847040.0, 2673373347840.0, 2655181340672.0, 2602731307008.0, 2563344695296.0, 2505787047936.0, 2496958038016.0, 2466060959744.0, 2453745434624.0, 2426034454528.0, 2353468801024.0, 2327969267712.0, 2322160156672.0, 2295811014656.0, 2266273415168.0, 2240180125696.0, 2226272337920.0, 2224970006528.0, 2155692556288.0, 2117214928896.0, 2116578312192.0, 2097627791360.0, 2072544280576.0, 2026759651328.0, 1971602587648.0, 1965158957056.0, 1963499978752.0, 1962848288768.0, 1956131373056.0, 1932027232256.0, 1924049534976.0, 1880128094208.0, 1863205257216.0, 1745731584000.0, 1716696121344.0, 1681065115648.0, 1673839771648.0, 1658368950272.0, 1643099717632.0, 1628788359168.0, 1595741962240.0, 1580674187264.0, 1574906757120.0, 1563974828032.0, 1551239872512.0, 1542282018816.0, 1532562505728.0, 1515064786944.0, 1491060785152.0, 1468207333376.0, 1451273224192.0], \"yaxis\": \"y\"}],\n",
       "                        {\"barmode\": \"relative\", \"height\": 600, \"legend\": {\"tracegroupgap\": 0}, \"margin\": {\"t\": 60}, \"template\": {\"data\": {\"bar\": [{\"error_x\": {\"color\": \"#2a3f5f\"}, \"error_y\": {\"color\": \"#2a3f5f\"}, \"marker\": {\"line\": {\"color\": \"#E5ECF6\", \"width\": 0.5}}, \"type\": \"bar\"}], \"barpolar\": [{\"marker\": {\"line\": {\"color\": \"#E5ECF6\", \"width\": 0.5}}, \"type\": \"barpolar\"}], \"carpet\": [{\"aaxis\": {\"endlinecolor\": \"#2a3f5f\", \"gridcolor\": \"white\", \"linecolor\": \"white\", \"minorgridcolor\": \"white\", \"startlinecolor\": \"#2a3f5f\"}, \"baxis\": {\"endlinecolor\": \"#2a3f5f\", \"gridcolor\": \"white\", \"linecolor\": \"white\", \"minorgridcolor\": \"white\", \"startlinecolor\": \"#2a3f5f\"}, \"type\": \"carpet\"}], \"choropleth\": [{\"colorbar\": {\"outlinewidth\": 0, \"ticks\": \"\"}, \"type\": \"choropleth\"}], \"contour\": [{\"colorbar\": {\"outlinewidth\": 0, \"ticks\": \"\"}, \"colorscale\": [[0.0, \"#0d0887\"], [0.1111111111111111, \"#46039f\"], [0.2222222222222222, \"#7201a8\"], [0.3333333333333333, \"#9c179e\"], [0.4444444444444444, \"#bd3786\"], [0.5555555555555556, \"#d8576b\"], [0.6666666666666666, \"#ed7953\"], [0.7777777777777778, \"#fb9f3a\"], [0.8888888888888888, \"#fdca26\"], [1.0, \"#f0f921\"]], \"type\": \"contour\"}], \"contourcarpet\": [{\"colorbar\": {\"outlinewidth\": 0, \"ticks\": \"\"}, \"type\": \"contourcarpet\"}], \"heatmap\": [{\"colorbar\": {\"outlinewidth\": 0, \"ticks\": \"\"}, \"colorscale\": [[0.0, \"#0d0887\"], [0.1111111111111111, \"#46039f\"], [0.2222222222222222, \"#7201a8\"], [0.3333333333333333, \"#9c179e\"], [0.4444444444444444, \"#bd3786\"], [0.5555555555555556, \"#d8576b\"], [0.6666666666666666, \"#ed7953\"], [0.7777777777777778, \"#fb9f3a\"], [0.8888888888888888, \"#fdca26\"], [1.0, \"#f0f921\"]], \"type\": \"heatmap\"}], \"heatmapgl\": [{\"colorbar\": {\"outlinewidth\": 0, \"ticks\": \"\"}, \"colorscale\": [[0.0, \"#0d0887\"], [0.1111111111111111, \"#46039f\"], [0.2222222222222222, \"#7201a8\"], [0.3333333333333333, \"#9c179e\"], [0.4444444444444444, \"#bd3786\"], [0.5555555555555556, \"#d8576b\"], [0.6666666666666666, \"#ed7953\"], [0.7777777777777778, \"#fb9f3a\"], [0.8888888888888888, \"#fdca26\"], [1.0, \"#f0f921\"]], \"type\": \"heatmapgl\"}], \"histogram\": [{\"marker\": {\"colorbar\": {\"outlinewidth\": 0, \"ticks\": \"\"}}, \"type\": \"histogram\"}], \"histogram2d\": [{\"colorbar\": {\"outlinewidth\": 0, \"ticks\": \"\"}, \"colorscale\": [[0.0, \"#0d0887\"], [0.1111111111111111, \"#46039f\"], [0.2222222222222222, \"#7201a8\"], [0.3333333333333333, \"#9c179e\"], [0.4444444444444444, \"#bd3786\"], [0.5555555555555556, \"#d8576b\"], [0.6666666666666666, \"#ed7953\"], [0.7777777777777778, \"#fb9f3a\"], [0.8888888888888888, \"#fdca26\"], [1.0, \"#f0f921\"]], \"type\": \"histogram2d\"}], \"histogram2dcontour\": [{\"colorbar\": {\"outlinewidth\": 0, \"ticks\": \"\"}, \"colorscale\": [[0.0, \"#0d0887\"], [0.1111111111111111, \"#46039f\"], [0.2222222222222222, \"#7201a8\"], [0.3333333333333333, \"#9c179e\"], [0.4444444444444444, \"#bd3786\"], [0.5555555555555556, \"#d8576b\"], [0.6666666666666666, \"#ed7953\"], [0.7777777777777778, \"#fb9f3a\"], [0.8888888888888888, \"#fdca26\"], [1.0, \"#f0f921\"]], \"type\": \"histogram2dcontour\"}], \"mesh3d\": [{\"colorbar\": {\"outlinewidth\": 0, \"ticks\": \"\"}, \"type\": \"mesh3d\"}], \"parcoords\": [{\"line\": {\"colorbar\": {\"outlinewidth\": 0, \"ticks\": \"\"}}, \"type\": \"parcoords\"}], \"pie\": [{\"automargin\": true, \"type\": \"pie\"}], \"scatter\": [{\"marker\": {\"colorbar\": {\"outlinewidth\": 0, \"ticks\": \"\"}}, \"type\": \"scatter\"}], \"scatter3d\": [{\"line\": {\"colorbar\": {\"outlinewidth\": 0, \"ticks\": \"\"}}, \"marker\": {\"colorbar\": {\"outlinewidth\": 0, \"ticks\": \"\"}}, \"type\": \"scatter3d\"}], \"scattercarpet\": [{\"marker\": {\"colorbar\": {\"outlinewidth\": 0, \"ticks\": \"\"}}, \"type\": \"scattercarpet\"}], \"scattergeo\": [{\"marker\": {\"colorbar\": {\"outlinewidth\": 0, \"ticks\": \"\"}}, \"type\": \"scattergeo\"}], \"scattergl\": [{\"marker\": {\"colorbar\": {\"outlinewidth\": 0, \"ticks\": \"\"}}, \"type\": \"scattergl\"}], \"scattermapbox\": [{\"marker\": {\"colorbar\": {\"outlinewidth\": 0, \"ticks\": \"\"}}, \"type\": \"scattermapbox\"}], \"scatterpolar\": [{\"marker\": {\"colorbar\": {\"outlinewidth\": 0, \"ticks\": \"\"}}, \"type\": \"scatterpolar\"}], \"scatterpolargl\": [{\"marker\": {\"colorbar\": {\"outlinewidth\": 0, \"ticks\": \"\"}}, \"type\": \"scatterpolargl\"}], \"scatterternary\": [{\"marker\": {\"colorbar\": {\"outlinewidth\": 0, \"ticks\": \"\"}}, \"type\": \"scatterternary\"}], \"surface\": [{\"colorbar\": {\"outlinewidth\": 0, \"ticks\": \"\"}, \"colorscale\": [[0.0, \"#0d0887\"], [0.1111111111111111, \"#46039f\"], [0.2222222222222222, \"#7201a8\"], [0.3333333333333333, \"#9c179e\"], [0.4444444444444444, \"#bd3786\"], [0.5555555555555556, \"#d8576b\"], [0.6666666666666666, \"#ed7953\"], [0.7777777777777778, \"#fb9f3a\"], [0.8888888888888888, \"#fdca26\"], [1.0, \"#f0f921\"]], \"type\": \"surface\"}], \"table\": [{\"cells\": {\"fill\": {\"color\": \"#EBF0F8\"}, \"line\": {\"color\": \"white\"}}, \"header\": {\"fill\": {\"color\": \"#C8D4E3\"}, \"line\": {\"color\": \"white\"}}, \"type\": \"table\"}]}, \"layout\": {\"annotationdefaults\": {\"arrowcolor\": \"#2a3f5f\", \"arrowhead\": 0, \"arrowwidth\": 1}, \"coloraxis\": {\"colorbar\": {\"outlinewidth\": 0, \"ticks\": \"\"}}, \"colorscale\": {\"diverging\": [[0, \"#8e0152\"], [0.1, \"#c51b7d\"], [0.2, \"#de77ae\"], [0.3, \"#f1b6da\"], [0.4, \"#fde0ef\"], [0.5, \"#f7f7f7\"], [0.6, \"#e6f5d0\"], [0.7, \"#b8e186\"], [0.8, \"#7fbc41\"], [0.9, \"#4d9221\"], [1, \"#276419\"]], \"sequential\": [[0.0, \"#0d0887\"], [0.1111111111111111, \"#46039f\"], [0.2222222222222222, \"#7201a8\"], [0.3333333333333333, \"#9c179e\"], [0.4444444444444444, \"#bd3786\"], [0.5555555555555556, \"#d8576b\"], [0.6666666666666666, \"#ed7953\"], [0.7777777777777778, \"#fb9f3a\"], [0.8888888888888888, \"#fdca26\"], [1.0, \"#f0f921\"]], \"sequentialminus\": [[0.0, \"#0d0887\"], [0.1111111111111111, \"#46039f\"], [0.2222222222222222, \"#7201a8\"], [0.3333333333333333, \"#9c179e\"], [0.4444444444444444, \"#bd3786\"], [0.5555555555555556, \"#d8576b\"], [0.6666666666666666, \"#ed7953\"], [0.7777777777777778, \"#fb9f3a\"], [0.8888888888888888, \"#fdca26\"], [1.0, \"#f0f921\"]]}, \"colorway\": [\"#636efa\", \"#EF553B\", \"#00cc96\", \"#ab63fa\", \"#FFA15A\", \"#19d3f3\", \"#FF6692\", \"#B6E880\", \"#FF97FF\", \"#FECB52\"], \"font\": {\"color\": \"#2a3f5f\"}, \"geo\": {\"bgcolor\": \"white\", \"lakecolor\": \"white\", \"landcolor\": \"#E5ECF6\", \"showlakes\": true, \"showland\": true, \"subunitcolor\": \"white\"}, \"hoverlabel\": {\"align\": \"left\"}, \"hovermode\": \"closest\", \"mapbox\": {\"style\": \"light\"}, \"paper_bgcolor\": \"white\", \"plot_bgcolor\": \"#E5ECF6\", \"polar\": {\"angularaxis\": {\"gridcolor\": \"white\", \"linecolor\": \"white\", \"ticks\": \"\"}, \"bgcolor\": \"#E5ECF6\", \"radialaxis\": {\"gridcolor\": \"white\", \"linecolor\": \"white\", \"ticks\": \"\"}}, \"scene\": {\"xaxis\": {\"backgroundcolor\": \"#E5ECF6\", \"gridcolor\": \"white\", \"gridwidth\": 2, \"linecolor\": \"white\", \"showbackground\": true, \"ticks\": \"\", \"zerolinecolor\": \"white\"}, \"yaxis\": {\"backgroundcolor\": \"#E5ECF6\", \"gridcolor\": \"white\", \"gridwidth\": 2, \"linecolor\": \"white\", \"showbackground\": true, \"ticks\": \"\", \"zerolinecolor\": \"white\"}, \"zaxis\": {\"backgroundcolor\": \"#E5ECF6\", \"gridcolor\": \"white\", \"gridwidth\": 2, \"linecolor\": \"white\", \"showbackground\": true, \"ticks\": \"\", \"zerolinecolor\": \"white\"}}, \"shapedefaults\": {\"line\": {\"color\": \"#2a3f5f\"}}, \"ternary\": {\"aaxis\": {\"gridcolor\": \"white\", \"linecolor\": \"white\", \"ticks\": \"\"}, \"baxis\": {\"gridcolor\": \"white\", \"linecolor\": \"white\", \"ticks\": \"\"}, \"bgcolor\": \"#E5ECF6\", \"caxis\": {\"gridcolor\": \"white\", \"linecolor\": \"white\", \"ticks\": \"\"}}, \"title\": {\"x\": 0.05}, \"xaxis\": {\"automargin\": true, \"gridcolor\": \"white\", \"linecolor\": \"white\", \"ticks\": \"\", \"title\": {\"standoff\": 15}, \"zerolinecolor\": \"white\", \"zerolinewidth\": 2}, \"yaxis\": {\"automargin\": true, \"gridcolor\": \"white\", \"linecolor\": \"white\", \"ticks\": \"\", \"title\": {\"standoff\": 15}, \"zerolinecolor\": \"white\", \"zerolinewidth\": 2}}}, \"xaxis\": {\"anchor\": \"y\", \"domain\": [0.0, 1.0], \"title\": {\"text\": \"\\u540d\\u524d\"}}, \"yaxis\": {\"anchor\": \"x\", \"domain\": [0.0, 1.0], \"title\": {\"text\": \"\\u6642\\u4fa1\\u7dcf\\u984d\"}}},\n",
       "                        {\"responsive\": true}\n",
       "                    ).then(function(){\n",
       "                            \n",
       "var gd = document.getElementById('b5c0275e-a2aa-4d90-a451-acf6ee2dc525');\n",
       "var x = new MutationObserver(function (mutations, observer) {{\n",
       "        var display = window.getComputedStyle(gd).display;\n",
       "        if (!display || display === 'none') {{\n",
       "            console.log([gd, 'removed!']);\n",
       "            Plotly.purge(gd);\n",
       "            observer.disconnect();\n",
       "        }}\n",
       "}});\n",
       "\n",
       "// Listen for the removal of the full notebook cells\n",
       "var notebookContainer = gd.closest('#notebook-container');\n",
       "if (notebookContainer) {{\n",
       "    x.observe(notebookContainer, {childList: true});\n",
       "}}\n",
       "\n",
       "// Listen for the clearing of the current output cell\n",
       "var outputEl = gd.closest('.output');\n",
       "if (outputEl) {{\n",
       "    x.observe(outputEl, {childList: true});\n",
       "}}\n",
       "\n",
       "                        })\n",
       "                };\n",
       "                });\n",
       "            </script>\n",
       "        </div>"
      ]
     },
     "metadata": {},
     "output_type": "display_data"
    }
   ],
   "source": [
    "fig = px.bar(company_info_df.sort_values('時価総額', ascending=False).iloc[:100], x='名前', y='時価総額')\n",
    "fig.show()"
   ]
  },
  {
   "cell_type": "markdown",
   "metadata": {},
   "source": [
    "## セクター別時価総額"
   ]
  },
  {
   "cell_type": "code",
   "execution_count": 50,
   "metadata": {},
   "outputs": [],
   "source": [
    "ct_df = company_info_df['セクター'].value_counts()"
   ]
  },
  {
   "cell_type": "code",
   "execution_count": 33,
   "metadata": {},
   "outputs": [
    {
     "data": {
      "text/plain": [
       "(60,)"
      ]
     },
     "execution_count": 33,
     "metadata": {},
     "output_type": "execute_result"
    }
   ],
   "source": [
    "ct_df.shape"
   ]
  },
  {
   "cell_type": "code",
   "execution_count": 39,
   "metadata": {},
   "outputs": [
    {
     "data": {
      "text/plain": [
       "pandas.core.series.Series"
      ]
     },
     "execution_count": 39,
     "metadata": {},
     "output_type": "execute_result"
    }
   ],
   "source": [
    "type(ct_df)"
   ]
  },
  {
   "cell_type": "code",
   "execution_count": 41,
   "metadata": {
    "scrolled": true
   },
   "outputs": [
    {
     "data": {
      "text/html": [
       "<div>\n",
       "<style scoped>\n",
       "    .dataframe tbody tr th:only-of-type {\n",
       "        vertical-align: middle;\n",
       "    }\n",
       "\n",
       "    .dataframe tbody tr th {\n",
       "        vertical-align: top;\n",
       "    }\n",
       "\n",
       "    .dataframe thead th {\n",
       "        text-align: right;\n",
       "    }\n",
       "</style>\n",
       "<table border=\"1\" class=\"dataframe\">\n",
       "  <thead>\n",
       "    <tr style=\"text-align: right;\">\n",
       "      <th></th>\n",
       "      <th>index</th>\n",
       "      <th>name</th>\n",
       "    </tr>\n",
       "  </thead>\n",
       "  <tbody>\n",
       "    <tr>\n",
       "      <th>0</th>\n",
       "      <td>他産業サービス・製品</td>\n",
       "      <td>239</td>\n",
       "    </tr>\n",
       "    <tr>\n",
       "      <th>1</th>\n",
       "      <td>電子部品・産業用電子機器</td>\n",
       "      <td>238</td>\n",
       "    </tr>\n",
       "    <tr>\n",
       "      <th>2</th>\n",
       "      <td>ＳＩ・ソフトウェア開発</td>\n",
       "      <td>201</td>\n",
       "    </tr>\n",
       "    <tr>\n",
       "      <th>3</th>\n",
       "      <td>食品</td>\n",
       "      <td>157</td>\n",
       "    </tr>\n",
       "    <tr>\n",
       "      <th>4</th>\n",
       "      <td>化学</td>\n",
       "      <td>157</td>\n",
       "    </tr>\n",
       "    <tr>\n",
       "      <th>5</th>\n",
       "      <td>外食・娯楽サービス</td>\n",
       "      <td>153</td>\n",
       "    </tr>\n",
       "    <tr>\n",
       "      <th>6</th>\n",
       "      <td>産業機械</td>\n",
       "      <td>133</td>\n",
       "    </tr>\n",
       "    <tr>\n",
       "      <th>7</th>\n",
       "      <td>ヘルスケア製品・サービス</td>\n",
       "      <td>129</td>\n",
       "    </tr>\n",
       "    <tr>\n",
       "      <th>8</th>\n",
       "      <td>自動車部品</td>\n",
       "      <td>121</td>\n",
       "    </tr>\n",
       "    <tr>\n",
       "      <th>9</th>\n",
       "      <td>メディア</td>\n",
       "      <td>117</td>\n",
       "    </tr>\n",
       "    <tr>\n",
       "      <th>10</th>\n",
       "      <td>他消費財小売り</td>\n",
       "      <td>117</td>\n",
       "    </tr>\n",
       "    <tr>\n",
       "      <th>11</th>\n",
       "      <td>建設・土木</td>\n",
       "      <td>117</td>\n",
       "    </tr>\n",
       "    <tr>\n",
       "      <th>12</th>\n",
       "      <td>設備機器・部品</td>\n",
       "      <td>113</td>\n",
       "    </tr>\n",
       "    <tr>\n",
       "      <th>13</th>\n",
       "      <td>通信サービス</td>\n",
       "      <td>104</td>\n",
       "    </tr>\n",
       "    <tr>\n",
       "      <th>14</th>\n",
       "      <td>他個人サービス・製品</td>\n",
       "      <td>99</td>\n",
       "    </tr>\n",
       "    <tr>\n",
       "      <th>15</th>\n",
       "      <td>不動産（住宅）</td>\n",
       "      <td>91</td>\n",
       "    </tr>\n",
       "    <tr>\n",
       "      <th>16</th>\n",
       "      <td>建設関連製品・設備</td>\n",
       "      <td>74</td>\n",
       "    </tr>\n",
       "    <tr>\n",
       "      <th>17</th>\n",
       "      <td>地方銀行</td>\n",
       "      <td>73</td>\n",
       "    </tr>\n",
       "    <tr>\n",
       "      <th>18</th>\n",
       "      <td>アパレル・アクセサリー</td>\n",
       "      <td>69</td>\n",
       "    </tr>\n",
       "    <tr>\n",
       "      <th>19</th>\n",
       "      <td>パッケージソフト</td>\n",
       "      <td>65</td>\n",
       "    </tr>\n",
       "    <tr>\n",
       "      <th>20</th>\n",
       "      <td>建設農業機械・産業車両</td>\n",
       "      <td>56</td>\n",
       "    </tr>\n",
       "    <tr>\n",
       "      <th>21</th>\n",
       "      <td>電子デバイス製造装置</td>\n",
       "      <td>55</td>\n",
       "    </tr>\n",
       "    <tr>\n",
       "      <th>22</th>\n",
       "      <td>住宅設備・機器</td>\n",
       "      <td>53</td>\n",
       "    </tr>\n",
       "    <tr>\n",
       "      <th>23</th>\n",
       "      <td>不動産（非住宅）</td>\n",
       "      <td>52</td>\n",
       "    </tr>\n",
       "    <tr>\n",
       "      <th>24</th>\n",
       "      <td>紙・パルプ製品・他素材</td>\n",
       "      <td>51</td>\n",
       "    </tr>\n",
       "    <tr>\n",
       "      <th>25</th>\n",
       "      <td>倉庫・運輸サービス</td>\n",
       "      <td>48</td>\n",
       "    </tr>\n",
       "    <tr>\n",
       "      <th>26</th>\n",
       "      <td>証券・先物</td>\n",
       "      <td>47</td>\n",
       "    </tr>\n",
       "    <tr>\n",
       "      <th>27</th>\n",
       "      <td>娯楽用品</td>\n",
       "      <td>47</td>\n",
       "    </tr>\n",
       "    <tr>\n",
       "      <th>28</th>\n",
       "      <td>金融サービス</td>\n",
       "      <td>46</td>\n",
       "    </tr>\n",
       "    <tr>\n",
       "      <th>29</th>\n",
       "      <td>鉄鋼</td>\n",
       "      <td>46</td>\n",
       "    </tr>\n",
       "    <tr>\n",
       "      <th>30</th>\n",
       "      <td>設備工事</td>\n",
       "      <td>44</td>\n",
       "    </tr>\n",
       "    <tr>\n",
       "      <th>31</th>\n",
       "      <td>燃料・資源</td>\n",
       "      <td>43</td>\n",
       "    </tr>\n",
       "    <tr>\n",
       "      <th>32</th>\n",
       "      <td>コンビニ・食品小売り</td>\n",
       "      <td>40</td>\n",
       "    </tr>\n",
       "    <tr>\n",
       "      <th>33</th>\n",
       "      <td>バイオテクノロジー</td>\n",
       "      <td>39</td>\n",
       "    </tr>\n",
       "    <tr>\n",
       "      <th>34</th>\n",
       "      <td>衣料小売り</td>\n",
       "      <td>38</td>\n",
       "    </tr>\n",
       "    <tr>\n",
       "      <th>35</th>\n",
       "      <td>医薬品</td>\n",
       "      <td>37</td>\n",
       "    </tr>\n",
       "    <tr>\n",
       "      <th>36</th>\n",
       "      <td>住宅建設</td>\n",
       "      <td>31</td>\n",
       "    </tr>\n",
       "    <tr>\n",
       "      <th>37</th>\n",
       "      <td>非鉄金属・金属製品</td>\n",
       "      <td>30</td>\n",
       "    </tr>\n",
       "    <tr>\n",
       "      <th>38</th>\n",
       "      <td>トイレタリー・化粧品</td>\n",
       "      <td>27</td>\n",
       "    </tr>\n",
       "    <tr>\n",
       "      <th>39</th>\n",
       "      <td>鉄道</td>\n",
       "      <td>25</td>\n",
       "    </tr>\n",
       "    <tr>\n",
       "      <th>40</th>\n",
       "      <td>事務機器</td>\n",
       "      <td>24</td>\n",
       "    </tr>\n",
       "    <tr>\n",
       "      <th>41</th>\n",
       "      <td>飲料</td>\n",
       "      <td>23</td>\n",
       "    </tr>\n",
       "    <tr>\n",
       "      <th>42</th>\n",
       "      <td>陸運</td>\n",
       "      <td>22</td>\n",
       "    </tr>\n",
       "    <tr>\n",
       "      <th>43</th>\n",
       "      <td>リース・消費者金融</td>\n",
       "      <td>19</td>\n",
       "    </tr>\n",
       "    <tr>\n",
       "      <th>44</th>\n",
       "      <td>ドラッグストア</td>\n",
       "      <td>15</td>\n",
       "    </tr>\n",
       "    <tr>\n",
       "      <th>45</th>\n",
       "      <td>海運</td>\n",
       "      <td>14</td>\n",
       "    </tr>\n",
       "    <tr>\n",
       "      <th>46</th>\n",
       "      <td>家電・コンピュータ小売り</td>\n",
       "      <td>13</td>\n",
       "    </tr>\n",
       "    <tr>\n",
       "      <th>47</th>\n",
       "      <td>電力</td>\n",
       "      <td>13</td>\n",
       "    </tr>\n",
       "    <tr>\n",
       "      <th>48</th>\n",
       "      <td>百貨店</td>\n",
       "      <td>12</td>\n",
       "    </tr>\n",
       "    <tr>\n",
       "      <th>49</th>\n",
       "      <td>民生用エレクトロニクス</td>\n",
       "      <td>12</td>\n",
       "    </tr>\n",
       "    <tr>\n",
       "      <th>50</th>\n",
       "      <td>大手銀行</td>\n",
       "      <td>10</td>\n",
       "    </tr>\n",
       "    <tr>\n",
       "      <th>51</th>\n",
       "      <td>総合スーパー</td>\n",
       "      <td>9</td>\n",
       "    </tr>\n",
       "    <tr>\n",
       "      <th>52</th>\n",
       "      <td>タイヤ・ゴム</td>\n",
       "      <td>9</td>\n",
       "    </tr>\n",
       "    <tr>\n",
       "      <th>53</th>\n",
       "      <td>ガス</td>\n",
       "      <td>9</td>\n",
       "    </tr>\n",
       "    <tr>\n",
       "      <th>54</th>\n",
       "      <td>自動車</td>\n",
       "      <td>8</td>\n",
       "    </tr>\n",
       "    <tr>\n",
       "      <th>55</th>\n",
       "      <td>総合商社</td>\n",
       "      <td>8</td>\n",
       "    </tr>\n",
       "    <tr>\n",
       "      <th>56</th>\n",
       "      <td>損害保険</td>\n",
       "      <td>5</td>\n",
       "    </tr>\n",
       "    <tr>\n",
       "      <th>57</th>\n",
       "      <td>総合電機</td>\n",
       "      <td>5</td>\n",
       "    </tr>\n",
       "    <tr>\n",
       "      <th>58</th>\n",
       "      <td>生命保険</td>\n",
       "      <td>4</td>\n",
       "    </tr>\n",
       "    <tr>\n",
       "      <th>59</th>\n",
       "      <td>旅客航空輸送</td>\n",
       "      <td>3</td>\n",
       "    </tr>\n",
       "  </tbody>\n",
       "</table>\n",
       "</div>"
      ],
      "text/plain": [
       "           index  name\n",
       "0     他産業サービス・製品   239\n",
       "1   電子部品・産業用電子機器   238\n",
       "2    ＳＩ・ソフトウェア開発   201\n",
       "3             食品   157\n",
       "4             化学   157\n",
       "5      外食・娯楽サービス   153\n",
       "6           産業機械   133\n",
       "7   ヘルスケア製品・サービス   129\n",
       "8          自動車部品   121\n",
       "9           メディア   117\n",
       "10       他消費財小売り   117\n",
       "11         建設・土木   117\n",
       "12       設備機器・部品   113\n",
       "13        通信サービス   104\n",
       "14    他個人サービス・製品    99\n",
       "15       不動産（住宅）    91\n",
       "16     建設関連製品・設備    74\n",
       "17          地方銀行    73\n",
       "18   アパレル・アクセサリー    69\n",
       "19      パッケージソフト    65\n",
       "20   建設農業機械・産業車両    56\n",
       "21    電子デバイス製造装置    55\n",
       "22       住宅設備・機器    53\n",
       "23      不動産（非住宅）    52\n",
       "24   紙・パルプ製品・他素材    51\n",
       "25     倉庫・運輸サービス    48\n",
       "26         証券・先物    47\n",
       "27          娯楽用品    47\n",
       "28        金融サービス    46\n",
       "29            鉄鋼    46\n",
       "30          設備工事    44\n",
       "31         燃料・資源    43\n",
       "32    コンビニ・食品小売り    40\n",
       "33     バイオテクノロジー    39\n",
       "34         衣料小売り    38\n",
       "35           医薬品    37\n",
       "36          住宅建設    31\n",
       "37     非鉄金属・金属製品    30\n",
       "38    トイレタリー・化粧品    27\n",
       "39            鉄道    25\n",
       "40          事務機器    24\n",
       "41            飲料    23\n",
       "42            陸運    22\n",
       "43     リース・消費者金融    19\n",
       "44       ドラッグストア    15\n",
       "45            海運    14\n",
       "46  家電・コンピュータ小売り    13\n",
       "47            電力    13\n",
       "48           百貨店    12\n",
       "49   民生用エレクトロニクス    12\n",
       "50          大手銀行    10\n",
       "51        総合スーパー     9\n",
       "52        タイヤ・ゴム     9\n",
       "53            ガス     9\n",
       "54           自動車     8\n",
       "55          総合商社     8\n",
       "56          損害保険     5\n",
       "57          総合電機     5\n",
       "58          生命保険     4\n",
       "59        旅客航空輸送     3"
      ]
     },
     "execution_count": 41,
     "metadata": {},
     "output_type": "execute_result"
    }
   ],
   "source": [
    "ct_df.reset_index(name='name')"
   ]
  },
  {
   "cell_type": "code",
   "execution_count": 42,
   "metadata": {},
   "outputs": [
    {
     "data": {
      "application/vnd.plotly.v1+json": {
       "config": {
        "plotlyServerURL": "https://plot.ly"
       },
       "data": [
        {
         "alignmentgroup": "True",
         "hoverlabel": {
          "namelength": 0
         },
         "hovertemplate": "index=%{x}<br>セクター=%{y}",
         "legendgroup": "",
         "marker": {
          "color": "#636efa"
         },
         "name": "",
         "offsetgroup": "",
         "orientation": "v",
         "showlegend": false,
         "textposition": "auto",
         "type": "bar",
         "x": [
          "他産業サービス・製品",
          "電子部品・産業用電子機器",
          "ＳＩ・ソフトウェア開発",
          "食品",
          "化学",
          "外食・娯楽サービス",
          "産業機械",
          "ヘルスケア製品・サービス",
          "自動車部品",
          "メディア",
          "他消費財小売り",
          "建設・土木",
          "設備機器・部品",
          "通信サービス",
          "他個人サービス・製品",
          "不動産（住宅）",
          "建設関連製品・設備",
          "地方銀行",
          "アパレル・アクセサリー",
          "パッケージソフト",
          "建設農業機械・産業車両",
          "電子デバイス製造装置",
          "住宅設備・機器",
          "不動産（非住宅）",
          "紙・パルプ製品・他素材",
          "倉庫・運輸サービス",
          "証券・先物",
          "娯楽用品",
          "金融サービス",
          "鉄鋼",
          "設備工事",
          "燃料・資源",
          "コンビニ・食品小売り",
          "バイオテクノロジー",
          "衣料小売り",
          "医薬品",
          "住宅建設",
          "非鉄金属・金属製品",
          "トイレタリー・化粧品",
          "鉄道",
          "事務機器",
          "飲料",
          "陸運",
          "リース・消費者金融",
          "ドラッグストア",
          "海運",
          "家電・コンピュータ小売り",
          "電力",
          "百貨店",
          "民生用エレクトロニクス",
          "大手銀行",
          "総合スーパー",
          "タイヤ・ゴム",
          "ガス",
          "自動車",
          "総合商社",
          "損害保険",
          "総合電機",
          "生命保険",
          "旅客航空輸送"
         ],
         "xaxis": "x",
         "y": [
          239,
          238,
          201,
          157,
          157,
          153,
          133,
          129,
          121,
          117,
          117,
          117,
          113,
          104,
          99,
          91,
          74,
          73,
          69,
          65,
          56,
          55,
          53,
          52,
          51,
          48,
          47,
          47,
          46,
          46,
          44,
          43,
          40,
          39,
          38,
          37,
          31,
          30,
          27,
          25,
          24,
          23,
          22,
          19,
          15,
          14,
          13,
          13,
          12,
          12,
          10,
          9,
          9,
          9,
          8,
          8,
          5,
          5,
          4,
          3
         ],
         "yaxis": "y"
        }
       ],
       "layout": {
        "autosize": true,
        "barmode": "relative",
        "legend": {
         "tracegroupgap": 0
        },
        "margin": {
         "t": 60
        },
        "template": {
         "data": {
          "bar": [
           {
            "error_x": {
             "color": "#2a3f5f"
            },
            "error_y": {
             "color": "#2a3f5f"
            },
            "marker": {
             "line": {
              "color": "#E5ECF6",
              "width": 0.5
             }
            },
            "type": "bar"
           }
          ],
          "barpolar": [
           {
            "marker": {
             "line": {
              "color": "#E5ECF6",
              "width": 0.5
             }
            },
            "type": "barpolar"
           }
          ],
          "carpet": [
           {
            "aaxis": {
             "endlinecolor": "#2a3f5f",
             "gridcolor": "white",
             "linecolor": "white",
             "minorgridcolor": "white",
             "startlinecolor": "#2a3f5f"
            },
            "baxis": {
             "endlinecolor": "#2a3f5f",
             "gridcolor": "white",
             "linecolor": "white",
             "minorgridcolor": "white",
             "startlinecolor": "#2a3f5f"
            },
            "type": "carpet"
           }
          ],
          "choropleth": [
           {
            "colorbar": {
             "outlinewidth": 0,
             "ticks": ""
            },
            "type": "choropleth"
           }
          ],
          "contour": [
           {
            "colorbar": {
             "outlinewidth": 0,
             "ticks": ""
            },
            "colorscale": [
             [
              0,
              "#0d0887"
             ],
             [
              0.1111111111111111,
              "#46039f"
             ],
             [
              0.2222222222222222,
              "#7201a8"
             ],
             [
              0.3333333333333333,
              "#9c179e"
             ],
             [
              0.4444444444444444,
              "#bd3786"
             ],
             [
              0.5555555555555556,
              "#d8576b"
             ],
             [
              0.6666666666666666,
              "#ed7953"
             ],
             [
              0.7777777777777778,
              "#fb9f3a"
             ],
             [
              0.8888888888888888,
              "#fdca26"
             ],
             [
              1,
              "#f0f921"
             ]
            ],
            "type": "contour"
           }
          ],
          "contourcarpet": [
           {
            "colorbar": {
             "outlinewidth": 0,
             "ticks": ""
            },
            "type": "contourcarpet"
           }
          ],
          "heatmap": [
           {
            "colorbar": {
             "outlinewidth": 0,
             "ticks": ""
            },
            "colorscale": [
             [
              0,
              "#0d0887"
             ],
             [
              0.1111111111111111,
              "#46039f"
             ],
             [
              0.2222222222222222,
              "#7201a8"
             ],
             [
              0.3333333333333333,
              "#9c179e"
             ],
             [
              0.4444444444444444,
              "#bd3786"
             ],
             [
              0.5555555555555556,
              "#d8576b"
             ],
             [
              0.6666666666666666,
              "#ed7953"
             ],
             [
              0.7777777777777778,
              "#fb9f3a"
             ],
             [
              0.8888888888888888,
              "#fdca26"
             ],
             [
              1,
              "#f0f921"
             ]
            ],
            "type": "heatmap"
           }
          ],
          "heatmapgl": [
           {
            "colorbar": {
             "outlinewidth": 0,
             "ticks": ""
            },
            "colorscale": [
             [
              0,
              "#0d0887"
             ],
             [
              0.1111111111111111,
              "#46039f"
             ],
             [
              0.2222222222222222,
              "#7201a8"
             ],
             [
              0.3333333333333333,
              "#9c179e"
             ],
             [
              0.4444444444444444,
              "#bd3786"
             ],
             [
              0.5555555555555556,
              "#d8576b"
             ],
             [
              0.6666666666666666,
              "#ed7953"
             ],
             [
              0.7777777777777778,
              "#fb9f3a"
             ],
             [
              0.8888888888888888,
              "#fdca26"
             ],
             [
              1,
              "#f0f921"
             ]
            ],
            "type": "heatmapgl"
           }
          ],
          "histogram": [
           {
            "marker": {
             "colorbar": {
              "outlinewidth": 0,
              "ticks": ""
             }
            },
            "type": "histogram"
           }
          ],
          "histogram2d": [
           {
            "colorbar": {
             "outlinewidth": 0,
             "ticks": ""
            },
            "colorscale": [
             [
              0,
              "#0d0887"
             ],
             [
              0.1111111111111111,
              "#46039f"
             ],
             [
              0.2222222222222222,
              "#7201a8"
             ],
             [
              0.3333333333333333,
              "#9c179e"
             ],
             [
              0.4444444444444444,
              "#bd3786"
             ],
             [
              0.5555555555555556,
              "#d8576b"
             ],
             [
              0.6666666666666666,
              "#ed7953"
             ],
             [
              0.7777777777777778,
              "#fb9f3a"
             ],
             [
              0.8888888888888888,
              "#fdca26"
             ],
             [
              1,
              "#f0f921"
             ]
            ],
            "type": "histogram2d"
           }
          ],
          "histogram2dcontour": [
           {
            "colorbar": {
             "outlinewidth": 0,
             "ticks": ""
            },
            "colorscale": [
             [
              0,
              "#0d0887"
             ],
             [
              0.1111111111111111,
              "#46039f"
             ],
             [
              0.2222222222222222,
              "#7201a8"
             ],
             [
              0.3333333333333333,
              "#9c179e"
             ],
             [
              0.4444444444444444,
              "#bd3786"
             ],
             [
              0.5555555555555556,
              "#d8576b"
             ],
             [
              0.6666666666666666,
              "#ed7953"
             ],
             [
              0.7777777777777778,
              "#fb9f3a"
             ],
             [
              0.8888888888888888,
              "#fdca26"
             ],
             [
              1,
              "#f0f921"
             ]
            ],
            "type": "histogram2dcontour"
           }
          ],
          "mesh3d": [
           {
            "colorbar": {
             "outlinewidth": 0,
             "ticks": ""
            },
            "type": "mesh3d"
           }
          ],
          "parcoords": [
           {
            "line": {
             "colorbar": {
              "outlinewidth": 0,
              "ticks": ""
             }
            },
            "type": "parcoords"
           }
          ],
          "pie": [
           {
            "automargin": true,
            "type": "pie"
           }
          ],
          "scatter": [
           {
            "marker": {
             "colorbar": {
              "outlinewidth": 0,
              "ticks": ""
             }
            },
            "type": "scatter"
           }
          ],
          "scatter3d": [
           {
            "line": {
             "colorbar": {
              "outlinewidth": 0,
              "ticks": ""
             }
            },
            "marker": {
             "colorbar": {
              "outlinewidth": 0,
              "ticks": ""
             }
            },
            "type": "scatter3d"
           }
          ],
          "scattercarpet": [
           {
            "marker": {
             "colorbar": {
              "outlinewidth": 0,
              "ticks": ""
             }
            },
            "type": "scattercarpet"
           }
          ],
          "scattergeo": [
           {
            "marker": {
             "colorbar": {
              "outlinewidth": 0,
              "ticks": ""
             }
            },
            "type": "scattergeo"
           }
          ],
          "scattergl": [
           {
            "marker": {
             "colorbar": {
              "outlinewidth": 0,
              "ticks": ""
             }
            },
            "type": "scattergl"
           }
          ],
          "scattermapbox": [
           {
            "marker": {
             "colorbar": {
              "outlinewidth": 0,
              "ticks": ""
             }
            },
            "type": "scattermapbox"
           }
          ],
          "scatterpolar": [
           {
            "marker": {
             "colorbar": {
              "outlinewidth": 0,
              "ticks": ""
             }
            },
            "type": "scatterpolar"
           }
          ],
          "scatterpolargl": [
           {
            "marker": {
             "colorbar": {
              "outlinewidth": 0,
              "ticks": ""
             }
            },
            "type": "scatterpolargl"
           }
          ],
          "scatterternary": [
           {
            "marker": {
             "colorbar": {
              "outlinewidth": 0,
              "ticks": ""
             }
            },
            "type": "scatterternary"
           }
          ],
          "surface": [
           {
            "colorbar": {
             "outlinewidth": 0,
             "ticks": ""
            },
            "colorscale": [
             [
              0,
              "#0d0887"
             ],
             [
              0.1111111111111111,
              "#46039f"
             ],
             [
              0.2222222222222222,
              "#7201a8"
             ],
             [
              0.3333333333333333,
              "#9c179e"
             ],
             [
              0.4444444444444444,
              "#bd3786"
             ],
             [
              0.5555555555555556,
              "#d8576b"
             ],
             [
              0.6666666666666666,
              "#ed7953"
             ],
             [
              0.7777777777777778,
              "#fb9f3a"
             ],
             [
              0.8888888888888888,
              "#fdca26"
             ],
             [
              1,
              "#f0f921"
             ]
            ],
            "type": "surface"
           }
          ],
          "table": [
           {
            "cells": {
             "fill": {
              "color": "#EBF0F8"
             },
             "line": {
              "color": "white"
             }
            },
            "header": {
             "fill": {
              "color": "#C8D4E3"
             },
             "line": {
              "color": "white"
             }
            },
            "type": "table"
           }
          ]
         },
         "layout": {
          "annotationdefaults": {
           "arrowcolor": "#2a3f5f",
           "arrowhead": 0,
           "arrowwidth": 1
          },
          "coloraxis": {
           "colorbar": {
            "outlinewidth": 0,
            "ticks": ""
           }
          },
          "colorscale": {
           "diverging": [
            [
             0,
             "#8e0152"
            ],
            [
             0.1,
             "#c51b7d"
            ],
            [
             0.2,
             "#de77ae"
            ],
            [
             0.3,
             "#f1b6da"
            ],
            [
             0.4,
             "#fde0ef"
            ],
            [
             0.5,
             "#f7f7f7"
            ],
            [
             0.6,
             "#e6f5d0"
            ],
            [
             0.7,
             "#b8e186"
            ],
            [
             0.8,
             "#7fbc41"
            ],
            [
             0.9,
             "#4d9221"
            ],
            [
             1,
             "#276419"
            ]
           ],
           "sequential": [
            [
             0,
             "#0d0887"
            ],
            [
             0.1111111111111111,
             "#46039f"
            ],
            [
             0.2222222222222222,
             "#7201a8"
            ],
            [
             0.3333333333333333,
             "#9c179e"
            ],
            [
             0.4444444444444444,
             "#bd3786"
            ],
            [
             0.5555555555555556,
             "#d8576b"
            ],
            [
             0.6666666666666666,
             "#ed7953"
            ],
            [
             0.7777777777777778,
             "#fb9f3a"
            ],
            [
             0.8888888888888888,
             "#fdca26"
            ],
            [
             1,
             "#f0f921"
            ]
           ],
           "sequentialminus": [
            [
             0,
             "#0d0887"
            ],
            [
             0.1111111111111111,
             "#46039f"
            ],
            [
             0.2222222222222222,
             "#7201a8"
            ],
            [
             0.3333333333333333,
             "#9c179e"
            ],
            [
             0.4444444444444444,
             "#bd3786"
            ],
            [
             0.5555555555555556,
             "#d8576b"
            ],
            [
             0.6666666666666666,
             "#ed7953"
            ],
            [
             0.7777777777777778,
             "#fb9f3a"
            ],
            [
             0.8888888888888888,
             "#fdca26"
            ],
            [
             1,
             "#f0f921"
            ]
           ]
          },
          "colorway": [
           "#636efa",
           "#EF553B",
           "#00cc96",
           "#ab63fa",
           "#FFA15A",
           "#19d3f3",
           "#FF6692",
           "#B6E880",
           "#FF97FF",
           "#FECB52"
          ],
          "font": {
           "color": "#2a3f5f"
          },
          "geo": {
           "bgcolor": "white",
           "lakecolor": "white",
           "landcolor": "#E5ECF6",
           "showlakes": true,
           "showland": true,
           "subunitcolor": "white"
          },
          "hoverlabel": {
           "align": "left"
          },
          "hovermode": "closest",
          "mapbox": {
           "style": "light"
          },
          "paper_bgcolor": "white",
          "plot_bgcolor": "#E5ECF6",
          "polar": {
           "angularaxis": {
            "gridcolor": "white",
            "linecolor": "white",
            "ticks": ""
           },
           "bgcolor": "#E5ECF6",
           "radialaxis": {
            "gridcolor": "white",
            "linecolor": "white",
            "ticks": ""
           }
          },
          "scene": {
           "xaxis": {
            "backgroundcolor": "#E5ECF6",
            "gridcolor": "white",
            "gridwidth": 2,
            "linecolor": "white",
            "showbackground": true,
            "ticks": "",
            "zerolinecolor": "white"
           },
           "yaxis": {
            "backgroundcolor": "#E5ECF6",
            "gridcolor": "white",
            "gridwidth": 2,
            "linecolor": "white",
            "showbackground": true,
            "ticks": "",
            "zerolinecolor": "white"
           },
           "zaxis": {
            "backgroundcolor": "#E5ECF6",
            "gridcolor": "white",
            "gridwidth": 2,
            "linecolor": "white",
            "showbackground": true,
            "ticks": "",
            "zerolinecolor": "white"
           }
          },
          "shapedefaults": {
           "line": {
            "color": "#2a3f5f"
           }
          },
          "ternary": {
           "aaxis": {
            "gridcolor": "white",
            "linecolor": "white",
            "ticks": ""
           },
           "baxis": {
            "gridcolor": "white",
            "linecolor": "white",
            "ticks": ""
           },
           "bgcolor": "#E5ECF6",
           "caxis": {
            "gridcolor": "white",
            "linecolor": "white",
            "ticks": ""
           }
          },
          "title": {
           "x": 0.05
          },
          "xaxis": {
           "automargin": true,
           "gridcolor": "white",
           "linecolor": "white",
           "ticks": "",
           "title": {
            "standoff": 15
           },
           "zerolinecolor": "white",
           "zerolinewidth": 2
          },
          "yaxis": {
           "automargin": true,
           "gridcolor": "white",
           "linecolor": "white",
           "ticks": "",
           "title": {
            "standoff": 15
           },
           "zerolinecolor": "white",
           "zerolinewidth": 2
          }
         }
        },
        "xaxis": {
         "anchor": "y",
         "autorange": true,
         "domain": [
          0,
          1
         ],
         "range": [
          -0.5,
          59.5
         ],
         "title": {
          "text": "index"
         },
         "type": "category"
        },
        "yaxis": {
         "anchor": "x",
         "autorange": true,
         "domain": [
          0,
          1
         ],
         "range": [
          0,
          251.57894736842104
         ],
         "title": {
          "text": "セクター"
         },
         "type": "linear"
        }
       }
      },
      "image/png": "[encoded data removed]",
      "text/html": [
       "<div>\n",
       "        \n",
       "        \n",
       "            <div id=\"6adb6db4-03da-4cda-aad0-d6cfad643a8a\" class=\"plotly-graph-div\" style=\"height:600px; width:100%;\"></div>\n",
       "            <script type=\"text/javascript\">\n",
       "                require([\"plotly\"], function(Plotly) {\n",
       "                    window.PLOTLYENV=window.PLOTLYENV || {};\n",
       "                    \n",
       "                if (document.getElementById(\"6adb6db4-03da-4cda-aad0-d6cfad643a8a\")) {\n",
       "                    Plotly.newPlot(\n",
       "                        '6adb6db4-03da-4cda-aad0-d6cfad643a8a',\n",
       "                        [{\"alignmentgroup\": \"True\", \"hoverlabel\": {\"namelength\": 0}, \"hovertemplate\": \"index=%{x}<br>\\u30bb\\u30af\\u30bf\\u30fc=%{y}\", \"legendgroup\": \"\", \"marker\": {\"color\": \"#636efa\"}, \"name\": \"\", \"offsetgroup\": \"\", \"orientation\": \"v\", \"showlegend\": false, \"textposition\": \"auto\", \"type\": \"bar\", \"x\": [\"\\u4ed6\\u7523\\u696d\\u30b5\\u30fc\\u30d3\\u30b9\\u30fb\\u88fd\\u54c1\", \"\\u96fb\\u5b50\\u90e8\\u54c1\\u30fb\\u7523\\u696d\\u7528\\u96fb\\u5b50\\u6a5f\\u5668\", \"\\uff33\\uff29\\u30fb\\u30bd\\u30d5\\u30c8\\u30a6\\u30a7\\u30a2\\u958b\\u767a\", \"\\u98df\\u54c1\", \"\\u5316\\u5b66\", \"\\u5916\\u98df\\u30fb\\u5a2f\\u697d\\u30b5\\u30fc\\u30d3\\u30b9\", \"\\u7523\\u696d\\u6a5f\\u68b0\", \"\\u30d8\\u30eb\\u30b9\\u30b1\\u30a2\\u88fd\\u54c1\\u30fb\\u30b5\\u30fc\\u30d3\\u30b9\", \"\\u81ea\\u52d5\\u8eca\\u90e8\\u54c1\", \"\\u30e1\\u30c7\\u30a3\\u30a2\", \"\\u4ed6\\u6d88\\u8cbb\\u8ca1\\u5c0f\\u58f2\\u308a\", \"\\u5efa\\u8a2d\\u30fb\\u571f\\u6728\", \"\\u8a2d\\u5099\\u6a5f\\u5668\\u30fb\\u90e8\\u54c1\", \"\\u901a\\u4fe1\\u30b5\\u30fc\\u30d3\\u30b9\", \"\\u4ed6\\u500b\\u4eba\\u30b5\\u30fc\\u30d3\\u30b9\\u30fb\\u88fd\\u54c1\", \"\\u4e0d\\u52d5\\u7523\\uff08\\u4f4f\\u5b85\\uff09\", \"\\u5efa\\u8a2d\\u95a2\\u9023\\u88fd\\u54c1\\u30fb\\u8a2d\\u5099\", \"\\u5730\\u65b9\\u9280\\u884c\", \"\\u30a2\\u30d1\\u30ec\\u30eb\\u30fb\\u30a2\\u30af\\u30bb\\u30b5\\u30ea\\u30fc\", \"\\u30d1\\u30c3\\u30b1\\u30fc\\u30b8\\u30bd\\u30d5\\u30c8\", \"\\u5efa\\u8a2d\\u8fb2\\u696d\\u6a5f\\u68b0\\u30fb\\u7523\\u696d\\u8eca\\u4e21\", \"\\u96fb\\u5b50\\u30c7\\u30d0\\u30a4\\u30b9\\u88fd\\u9020\\u88c5\\u7f6e\", \"\\u4f4f\\u5b85\\u8a2d\\u5099\\u30fb\\u6a5f\\u5668\", \"\\u4e0d\\u52d5\\u7523\\uff08\\u975e\\u4f4f\\u5b85\\uff09\", \"\\u7d19\\u30fb\\u30d1\\u30eb\\u30d7\\u88fd\\u54c1\\u30fb\\u4ed6\\u7d20\\u6750\", \"\\u5009\\u5eab\\u30fb\\u904b\\u8f38\\u30b5\\u30fc\\u30d3\\u30b9\", \"\\u8a3c\\u5238\\u30fb\\u5148\\u7269\", \"\\u5a2f\\u697d\\u7528\\u54c1\", \"\\u91d1\\u878d\\u30b5\\u30fc\\u30d3\\u30b9\", \"\\u9244\\u92fc\", \"\\u8a2d\\u5099\\u5de5\\u4e8b\", \"\\u71c3\\u6599\\u30fb\\u8cc7\\u6e90\", \"\\u30b3\\u30f3\\u30d3\\u30cb\\u30fb\\u98df\\u54c1\\u5c0f\\u58f2\\u308a\", \"\\u30d0\\u30a4\\u30aa\\u30c6\\u30af\\u30ce\\u30ed\\u30b8\\u30fc\", \"\\u8863\\u6599\\u5c0f\\u58f2\\u308a\", \"\\u533b\\u85ac\\u54c1\", \"\\u4f4f\\u5b85\\u5efa\\u8a2d\", \"\\u975e\\u9244\\u91d1\\u5c5e\\u30fb\\u91d1\\u5c5e\\u88fd\\u54c1\", \"\\u30c8\\u30a4\\u30ec\\u30bf\\u30ea\\u30fc\\u30fb\\u5316\\u7ca7\\u54c1\", \"\\u9244\\u9053\", \"\\u4e8b\\u52d9\\u6a5f\\u5668\", \"\\u98f2\\u6599\", \"\\u9678\\u904b\", \"\\u30ea\\u30fc\\u30b9\\u30fb\\u6d88\\u8cbb\\u8005\\u91d1\\u878d\", \"\\u30c9\\u30e9\\u30c3\\u30b0\\u30b9\\u30c8\\u30a2\", \"\\u6d77\\u904b\", \"\\u5bb6\\u96fb\\u30fb\\u30b3\\u30f3\\u30d4\\u30e5\\u30fc\\u30bf\\u5c0f\\u58f2\\u308a\", \"\\u96fb\\u529b\", \"\\u767e\\u8ca8\\u5e97\", \"\\u6c11\\u751f\\u7528\\u30a8\\u30ec\\u30af\\u30c8\\u30ed\\u30cb\\u30af\\u30b9\", \"\\u5927\\u624b\\u9280\\u884c\", \"\\u7dcf\\u5408\\u30b9\\u30fc\\u30d1\\u30fc\", \"\\u30bf\\u30a4\\u30e4\\u30fb\\u30b4\\u30e0\", \"\\u30ac\\u30b9\", \"\\u81ea\\u52d5\\u8eca\", \"\\u7dcf\\u5408\\u5546\\u793e\", \"\\u640d\\u5bb3\\u4fdd\\u967a\", \"\\u7dcf\\u5408\\u96fb\\u6a5f\", \"\\u751f\\u547d\\u4fdd\\u967a\", \"\\u65c5\\u5ba2\\u822a\\u7a7a\\u8f38\\u9001\"], \"xaxis\": \"x\", \"y\": [239, 238, 201, 157, 157, 153, 133, 129, 121, 117, 117, 117, 113, 104, 99, 91, 74, 73, 69, 65, 56, 55, 53, 52, 51, 48, 47, 47, 46, 46, 44, 43, 40, 39, 38, 37, 31, 30, 27, 25, 24, 23, 22, 19, 15, 14, 13, 13, 12, 12, 10, 9, 9, 9, 8, 8, 5, 5, 4, 3], \"yaxis\": \"y\"}],\n",
       "                        {\"barmode\": \"relative\", \"height\": 600, \"legend\": {\"tracegroupgap\": 0}, \"margin\": {\"t\": 60}, \"template\": {\"data\": {\"bar\": [{\"error_x\": {\"color\": \"#2a3f5f\"}, \"error_y\": {\"color\": \"#2a3f5f\"}, \"marker\": {\"line\": {\"color\": \"#E5ECF6\", \"width\": 0.5}}, \"type\": \"bar\"}], \"barpolar\": [{\"marker\": {\"line\": {\"color\": \"#E5ECF6\", \"width\": 0.5}}, \"type\": \"barpolar\"}], \"carpet\": [{\"aaxis\": {\"endlinecolor\": \"#2a3f5f\", \"gridcolor\": \"white\", \"linecolor\": \"white\", \"minorgridcolor\": \"white\", \"startlinecolor\": \"#2a3f5f\"}, \"baxis\": {\"endlinecolor\": \"#2a3f5f\", \"gridcolor\": \"white\", \"linecolor\": \"white\", \"minorgridcolor\": \"white\", \"startlinecolor\": \"#2a3f5f\"}, \"type\": \"carpet\"}], \"choropleth\": [{\"colorbar\": {\"outlinewidth\": 0, \"ticks\": \"\"}, \"type\": \"choropleth\"}], \"contour\": [{\"colorbar\": {\"outlinewidth\": 0, \"ticks\": \"\"}, \"colorscale\": [[0.0, \"#0d0887\"], [0.1111111111111111, \"#46039f\"], [0.2222222222222222, \"#7201a8\"], [0.3333333333333333, \"#9c179e\"], [0.4444444444444444, \"#bd3786\"], [0.5555555555555556, \"#d8576b\"], [0.6666666666666666, \"#ed7953\"], [0.7777777777777778, \"#fb9f3a\"], [0.8888888888888888, \"#fdca26\"], [1.0, \"#f0f921\"]], \"type\": \"contour\"}], \"contourcarpet\": [{\"colorbar\": {\"outlinewidth\": 0, \"ticks\": \"\"}, \"type\": \"contourcarpet\"}], \"heatmap\": [{\"colorbar\": {\"outlinewidth\": 0, \"ticks\": \"\"}, \"colorscale\": [[0.0, \"#0d0887\"], [0.1111111111111111, \"#46039f\"], [0.2222222222222222, \"#7201a8\"], [0.3333333333333333, \"#9c179e\"], [0.4444444444444444, \"#bd3786\"], [0.5555555555555556, \"#d8576b\"], [0.6666666666666666, \"#ed7953\"], [0.7777777777777778, \"#fb9f3a\"], [0.8888888888888888, \"#fdca26\"], [1.0, \"#f0f921\"]], \"type\": \"heatmap\"}], \"heatmapgl\": [{\"colorbar\": {\"outlinewidth\": 0, \"ticks\": \"\"}, \"colorscale\": [[0.0, \"#0d0887\"], [0.1111111111111111, \"#46039f\"], [0.2222222222222222, \"#7201a8\"], [0.3333333333333333, \"#9c179e\"], [0.4444444444444444, \"#bd3786\"], [0.5555555555555556, \"#d8576b\"], [0.6666666666666666, \"#ed7953\"], [0.7777777777777778, \"#fb9f3a\"], [0.8888888888888888, \"#fdca26\"], [1.0, \"#f0f921\"]], \"type\": \"heatmapgl\"}], \"histogram\": [{\"marker\": {\"colorbar\": {\"outlinewidth\": 0, \"ticks\": \"\"}}, \"type\": \"histogram\"}], \"histogram2d\": [{\"colorbar\": {\"outlinewidth\": 0, \"ticks\": \"\"}, \"colorscale\": [[0.0, \"#0d0887\"], [0.1111111111111111, \"#46039f\"], [0.2222222222222222, \"#7201a8\"], [0.3333333333333333, \"#9c179e\"], [0.4444444444444444, \"#bd3786\"], [0.5555555555555556, \"#d8576b\"], [0.6666666666666666, \"#ed7953\"], [0.7777777777777778, \"#fb9f3a\"], [0.8888888888888888, \"#fdca26\"], [1.0, \"#f0f921\"]], \"type\": \"histogram2d\"}], \"histogram2dcontour\": [{\"colorbar\": {\"outlinewidth\": 0, \"ticks\": \"\"}, \"colorscale\": [[0.0, \"#0d0887\"], [0.1111111111111111, \"#46039f\"], [0.2222222222222222, \"#7201a8\"], [0.3333333333333333, \"#9c179e\"], [0.4444444444444444, \"#bd3786\"], [0.5555555555555556, \"#d8576b\"], [0.6666666666666666, \"#ed7953\"], [0.7777777777777778, \"#fb9f3a\"], [0.8888888888888888, \"#fdca26\"], [1.0, \"#f0f921\"]], \"type\": \"histogram2dcontour\"}], \"mesh3d\": [{\"colorbar\": {\"outlinewidth\": 0, \"ticks\": \"\"}, \"type\": \"mesh3d\"}], \"parcoords\": [{\"line\": {\"colorbar\": {\"outlinewidth\": 0, \"ticks\": \"\"}}, \"type\": \"parcoords\"}], \"pie\": [{\"automargin\": true, \"type\": \"pie\"}], \"scatter\": [{\"marker\": {\"colorbar\": {\"outlinewidth\": 0, \"ticks\": \"\"}}, \"type\": \"scatter\"}], \"scatter3d\": [{\"line\": {\"colorbar\": {\"outlinewidth\": 0, \"ticks\": \"\"}}, \"marker\": {\"colorbar\": {\"outlinewidth\": 0, \"ticks\": \"\"}}, \"type\": \"scatter3d\"}], \"scattercarpet\": [{\"marker\": {\"colorbar\": {\"outlinewidth\": 0, \"ticks\": \"\"}}, \"type\": \"scattercarpet\"}], \"scattergeo\": [{\"marker\": {\"colorbar\": {\"outlinewidth\": 0, \"ticks\": \"\"}}, \"type\": \"scattergeo\"}], \"scattergl\": [{\"marker\": {\"colorbar\": {\"outlinewidth\": 0, \"ticks\": \"\"}}, \"type\": \"scattergl\"}], \"scattermapbox\": [{\"marker\": {\"colorbar\": {\"outlinewidth\": 0, \"ticks\": \"\"}}, \"type\": \"scattermapbox\"}], \"scatterpolar\": [{\"marker\": {\"colorbar\": {\"outlinewidth\": 0, \"ticks\": \"\"}}, \"type\": \"scatterpolar\"}], \"scatterpolargl\": [{\"marker\": {\"colorbar\": {\"outlinewidth\": 0, \"ticks\": \"\"}}, \"type\": \"scatterpolargl\"}], \"scatterternary\": [{\"marker\": {\"colorbar\": {\"outlinewidth\": 0, \"ticks\": \"\"}}, \"type\": \"scatterternary\"}], \"surface\": [{\"colorbar\": {\"outlinewidth\": 0, \"ticks\": \"\"}, \"colorscale\": [[0.0, \"#0d0887\"], [0.1111111111111111, \"#46039f\"], [0.2222222222222222, \"#7201a8\"], [0.3333333333333333, \"#9c179e\"], [0.4444444444444444, \"#bd3786\"], [0.5555555555555556, \"#d8576b\"], [0.6666666666666666, \"#ed7953\"], [0.7777777777777778, \"#fb9f3a\"], [0.8888888888888888, \"#fdca26\"], [1.0, \"#f0f921\"]], \"type\": \"surface\"}], \"table\": [{\"cells\": {\"fill\": {\"color\": \"#EBF0F8\"}, \"line\": {\"color\": \"white\"}}, \"header\": {\"fill\": {\"color\": \"#C8D4E3\"}, \"line\": {\"color\": \"white\"}}, \"type\": \"table\"}]}, \"layout\": {\"annotationdefaults\": {\"arrowcolor\": \"#2a3f5f\", \"arrowhead\": 0, \"arrowwidth\": 1}, \"coloraxis\": {\"colorbar\": {\"outlinewidth\": 0, \"ticks\": \"\"}}, \"colorscale\": {\"diverging\": [[0, \"#8e0152\"], [0.1, \"#c51b7d\"], [0.2, \"#de77ae\"], [0.3, \"#f1b6da\"], [0.4, \"#fde0ef\"], [0.5, \"#f7f7f7\"], [0.6, \"#e6f5d0\"], [0.7, \"#b8e186\"], [0.8, \"#7fbc41\"], [0.9, \"#4d9221\"], [1, \"#276419\"]], \"sequential\": [[0.0, \"#0d0887\"], [0.1111111111111111, \"#46039f\"], [0.2222222222222222, \"#7201a8\"], [0.3333333333333333, \"#9c179e\"], [0.4444444444444444, \"#bd3786\"], [0.5555555555555556, \"#d8576b\"], [0.6666666666666666, \"#ed7953\"], [0.7777777777777778, \"#fb9f3a\"], [0.8888888888888888, \"#fdca26\"], [1.0, \"#f0f921\"]], \"sequentialminus\": [[0.0, \"#0d0887\"], [0.1111111111111111, \"#46039f\"], [0.2222222222222222, \"#7201a8\"], [0.3333333333333333, \"#9c179e\"], [0.4444444444444444, \"#bd3786\"], [0.5555555555555556, \"#d8576b\"], [0.6666666666666666, \"#ed7953\"], [0.7777777777777778, \"#fb9f3a\"], [0.8888888888888888, \"#fdca26\"], [1.0, \"#f0f921\"]]}, \"colorway\": [\"#636efa\", \"#EF553B\", \"#00cc96\", \"#ab63fa\", \"#FFA15A\", \"#19d3f3\", \"#FF6692\", \"#B6E880\", \"#FF97FF\", \"#FECB52\"], \"font\": {\"color\": \"#2a3f5f\"}, \"geo\": {\"bgcolor\": \"white\", \"lakecolor\": \"white\", \"landcolor\": \"#E5ECF6\", \"showlakes\": true, \"showland\": true, \"subunitcolor\": \"white\"}, \"hoverlabel\": {\"align\": \"left\"}, \"hovermode\": \"closest\", \"mapbox\": {\"style\": \"light\"}, \"paper_bgcolor\": \"white\", \"plot_bgcolor\": \"#E5ECF6\", \"polar\": {\"angularaxis\": {\"gridcolor\": \"white\", \"linecolor\": \"white\", \"ticks\": \"\"}, \"bgcolor\": \"#E5ECF6\", \"radialaxis\": {\"gridcolor\": \"white\", \"linecolor\": \"white\", \"ticks\": \"\"}}, \"scene\": {\"xaxis\": {\"backgroundcolor\": \"#E5ECF6\", \"gridcolor\": \"white\", \"gridwidth\": 2, \"linecolor\": \"white\", \"showbackground\": true, \"ticks\": \"\", \"zerolinecolor\": \"white\"}, \"yaxis\": {\"backgroundcolor\": \"#E5ECF6\", \"gridcolor\": \"white\", \"gridwidth\": 2, \"linecolor\": \"white\", \"showbackground\": true, \"ticks\": \"\", \"zerolinecolor\": \"white\"}, \"zaxis\": {\"backgroundcolor\": \"#E5ECF6\", \"gridcolor\": \"white\", \"gridwidth\": 2, \"linecolor\": \"white\", \"showbackground\": true, \"ticks\": \"\", \"zerolinecolor\": \"white\"}}, \"shapedefaults\": {\"line\": {\"color\": \"#2a3f5f\"}}, \"ternary\": {\"aaxis\": {\"gridcolor\": \"white\", \"linecolor\": \"white\", \"ticks\": \"\"}, \"baxis\": {\"gridcolor\": \"white\", \"linecolor\": \"white\", \"ticks\": \"\"}, \"bgcolor\": \"#E5ECF6\", \"caxis\": {\"gridcolor\": \"white\", \"linecolor\": \"white\", \"ticks\": \"\"}}, \"title\": {\"x\": 0.05}, \"xaxis\": {\"automargin\": true, \"gridcolor\": \"white\", \"linecolor\": \"white\", \"ticks\": \"\", \"title\": {\"standoff\": 15}, \"zerolinecolor\": \"white\", \"zerolinewidth\": 2}, \"yaxis\": {\"automargin\": true, \"gridcolor\": \"white\", \"linecolor\": \"white\", \"ticks\": \"\", \"title\": {\"standoff\": 15}, \"zerolinecolor\": \"white\", \"zerolinewidth\": 2}}}, \"xaxis\": {\"anchor\": \"y\", \"domain\": [0.0, 1.0], \"title\": {\"text\": \"index\"}}, \"yaxis\": {\"anchor\": \"x\", \"domain\": [0.0, 1.0], \"title\": {\"text\": \"\\u30bb\\u30af\\u30bf\\u30fc\"}}},\n",
       "                        {\"responsive\": true}\n",
       "                    ).then(function(){\n",
       "                            \n",
       "var gd = document.getElementById('6adb6db4-03da-4cda-aad0-d6cfad643a8a');\n",
       "var x = new MutationObserver(function (mutations, observer) {{\n",
       "        var display = window.getComputedStyle(gd).display;\n",
       "        if (!display || display === 'none') {{\n",
       "            console.log([gd, 'removed!']);\n",
       "            Plotly.purge(gd);\n",
       "            observer.disconnect();\n",
       "        }}\n",
       "}});\n",
       "\n",
       "// Listen for the removal of the full notebook cells\n",
       "var notebookContainer = gd.closest('#notebook-container');\n",
       "if (notebookContainer) {{\n",
       "    x.observe(notebookContainer, {childList: true});\n",
       "}}\n",
       "\n",
       "// Listen for the clearing of the current output cell\n",
       "var outputEl = gd.closest('.output');\n",
       "if (outputEl) {{\n",
       "    x.observe(outputEl, {childList: true});\n",
       "}}\n",
       "\n",
       "                        })\n",
       "                };\n",
       "                });\n",
       "            </script>\n",
       "        </div>"
      ]
     },
     "metadata": {},
     "output_type": "display_data"
    }
   ],
   "source": [
    "# fig = px.bar(comany_info_df['セクター'].value_counts(), x='index')\n",
    "fig = px.bar(ct_df.reset_index(), x='index', y='セクター')\n",
    "fig.show()"
   ]
  },
  {
   "cell_type": "code",
   "execution_count": null,
   "metadata": {},
   "outputs": [],
   "source": []
  }
 ],
 "metadata": {
  "kernelspec": {
   "display_name": "graph",
   "language": "python",
   "name": "graph"
  },
  "language_info": {
   "codemirror_mode": {
    "name": "ipython",
    "version": 3
   },
   "file_extension": ".py",
   "mimetype": "text/x-python",
   "name": "python",
   "nbconvert_exporter": "python",
   "pygments_lexer": "ipython3",
   "version": "3.6.9"
  }
 },
 "nbformat": 4,
 "nbformat_minor": 4
}
